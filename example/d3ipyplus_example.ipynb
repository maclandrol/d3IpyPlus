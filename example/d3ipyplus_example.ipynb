{
 "cells": [
  {
   "cell_type": "code",
   "execution_count": 1,
   "metadata": {
    "collapsed": false
   },
   "outputs": [],
   "source": [
    "%load_ext autoreload\n",
    "%autoreload\n",
    "import pandas as pd\n",
    "from d3IpyPlus import *"
   ]
  },
  {
   "cell_type": "markdown",
   "metadata": {},
   "source": [
    "## List of methods and classes\n",
    "\n",
    "The module contains the following methods:\n",
    "\n",
    "- `from_csv` and `from_json` for loading raw data as pandas dataframe\n",
    "- `to_js` to convert python type to JavaScript\n",
    "\n",
    "and the following classes:\n",
    "\n",
    "- `D3IPyPlus`, the super base class  that interacts with the DOM\n",
    "- `Plot`, the generic plotting class that offer fine control over most D3Plus plot type\n",
    "- `ScatterPlot, LinePlot, BarPlot, BoxPlot, StackedArea`, which are subclasses of Plot and are just syntactic sugar to simplify the API\n",
    "- `TreeMap` for plotting treemap\n",
    "- `_GeoMap` and `_GeoMap2` for geo data."
   ]
  },
  {
   "cell_type": "markdown",
   "metadata": {},
   "source": [
    "## Basic examples\n",
    "\n",
    "These examples are reproductions of the official D3plus v1 examples\n",
    "\n",
    "### ScatterPlot"
   ]
  },
  {
   "cell_type": "code",
   "execution_count": 2,
   "metadata": {
    "collapsed": false
   },
   "outputs": [
    {
     "data": {
      "text/html": [
       "<div id='d3viz_1' style='height:400px;width:700px'></div>"
      ],
      "text/plain": [
       "<IPython.core.display.HTML object>"
      ]
     },
     "metadata": {},
     "output_type": "display_data"
    },
    {
     "data": {
      "application/javascript": [
       "$(\"head\").append($(\"<link/>\").attr({\n",
       "  rel:  \"stylesheet\",\n",
       "  type: \"text/css\",\n",
       "  href: \"\"\n",
       "}));\n",
       "$.getScript(\"http://www.d3plus.org/js/d3.js\", function () {\n",
       "$.getScript(\"http://www.d3plus.org/js/d3plus.js\", function () {\n",
       "\n",
       "        (function (){\n",
       "            \n",
       "            var viz_data = [{\"type\": \"a\", \"weight\": 0.45, \"value\": 100}, {\"type\": \"b\", \"weight\": 0.6, \"value\": 70}, {\"type\": \"g\", \"weight\": -0.2, \"value\": 40}, {\"type\": \"d\", \"weight\": 0.1, \"value\": 15}];\n",
       "\n",
       "            var viz_d3viz_1 = d3plus.viz()\n",
       "                .container('#d3viz_1')\n",
       "                .type('scatter')\n",
       "                .color('type')\n",
       "\t\t.text('type')\n",
       "\t\t.y('weight')\n",
       "\t\t.x('value')\n",
       "\t\t.id('type')\n",
       "\t\t.size(15)\n",
       "                .data(viz_data)\n",
       "                .draw();\n",
       "\n",
       "        })();\n",
       "        });\n",
       "});\n"
      ],
      "text/plain": [
       "<IPython.core.display.Javascript object>"
      ]
     },
     "metadata": {},
     "output_type": "display_data"
    }
   ],
   "source": [
    "sc_data = [\n",
    "    {\"value\": 100, \"weight\": .45, \"type\": \"a\"},\n",
    "    {\"value\": 70, \"weight\": .60, \"type\": \"b\"},\n",
    "    {\"value\": 40, \"weight\": -.2, \"type\": \"g\"},\n",
    "    {\"value\": 15, \"weight\": .1, \"type\": \"d\"}\n",
    "]\n",
    "\n",
    "# set the div width to 700px and each node size to 15\n",
    "scplot = ScatterPlot(x='value', y='weight', id='type', width=700, size=15)\n",
    "scplot.draw(sc_data)"
   ]
  },
  {
   "cell_type": "markdown",
   "metadata": {
    "collapsed": false
   },
   "source": [
    "Use `dump_html` if you want the html code behind the plot. Displaying that html code should return the same plot (you should use draw whenever possible)"
   ]
  },
  {
   "cell_type": "code",
   "execution_count": 3,
   "metadata": {
    "collapsed": false,
    "scrolled": false
   },
   "outputs": [
    {
     "name": "stdout",
     "output_type": "stream",
     "text": [
      "\n",
      "        <script src='http://www.d3plus.org/js/d3.js' type='text/javascript'></script>\n",
      "\t<script src='http://www.d3plus.org/js/d3plus.js' type='text/javascript'></script>\n",
      "        <div id='id_html'></div>\n",
      "        <style>\n",
      "        div#id_html{\n",
      "             width: 700px;\n",
      "             height: 400px;\n",
      "        }\n",
      "        #d3plus_graph_ylabel{\n",
      "            font-size: 20px;\n",
      "        }\n",
      "        </style>\n",
      "        <script>\n",
      "            \n",
      "        (function (){\n",
      "            \n",
      "            var viz_data = [{\"type\": \"a\", \"weight\": 0.45, \"value\": 100}, {\"type\": \"b\", \"weight\": 0.6, \"value\": 70}, {\"type\": \"g\", \"weight\": -0.2, \"value\": 40}, {\"type\": \"d\", \"weight\": 0.1, \"value\": 15}];\n",
      "\n",
      "            var viz_d3viz_1 = d3plus.viz()\n",
      "                .container('#id_html')\n",
      "                .type('scatter')\n",
      "                .color('type')\n",
      "\t\t.text('type')\n",
      "\t\t.y('weight')\n",
      "\t\t.x('value')\n",
      "\t\t.id('type')\n",
      "\t\t.size(15)\n",
      "                .data(viz_data)\n",
      "                .draw();\n",
      "\n",
      "        })();\n",
      "        \n",
      "        </script>\n",
      "        \n"
     ]
    },
    {
     "data": {
      "text/html": [
       "\n",
       "        <script src='http://www.d3plus.org/js/d3.js' type='text/javascript'></script>\n",
       "\t<script src='http://www.d3plus.org/js/d3plus.js' type='text/javascript'></script>\n",
       "        <div id='id_html'></div>\n",
       "        <style>\n",
       "        div#id_html{\n",
       "             width: 700px;\n",
       "             height: 400px;\n",
       "        }\n",
       "        #d3plus_graph_ylabel{\n",
       "            font-size: 20px;\n",
       "        }\n",
       "        </style>\n",
       "        <script>\n",
       "            \n",
       "        (function (){\n",
       "            \n",
       "            var viz_data = [{\"type\": \"a\", \"weight\": 0.45, \"value\": 100}, {\"type\": \"b\", \"weight\": 0.6, \"value\": 70}, {\"type\": \"g\", \"weight\": -0.2, \"value\": 40}, {\"type\": \"d\", \"weight\": 0.1, \"value\": 15}];\n",
       "\n",
       "            var viz_d3viz_1 = d3plus.viz()\n",
       "                .container('#id_html')\n",
       "                .type('scatter')\n",
       "                .color('type')\n",
       "\t\t.text('type')\n",
       "\t\t.y('weight')\n",
       "\t\t.x('value')\n",
       "\t\t.id('type')\n",
       "\t\t.size(15)\n",
       "                .data(viz_data)\n",
       "                .draw();\n",
       "\n",
       "        })();\n",
       "        \n",
       "        </script>\n",
       "        "
      ],
      "text/plain": [
       "<IPython.core.display.HTML object>"
      ]
     },
     "execution_count": 3,
     "metadata": {},
     "output_type": "execute_result"
    }
   ],
   "source": [
    "# Let's add some css to increase ylabel font first\n",
    "scplot.setCSS(\"\"\"\n",
    "    #d3plus_graph_ylabel{\n",
    "            font-size: 20px;\n",
    "        }\n",
    "\"\"\")\n",
    "from IPython.core.display import HTML\n",
    "\n",
    "sc_html = scplot.dump_html(sc_data, 'id_html') # use a new div id\n",
    "print(sc_html)\n",
    "HTML(sc_html)"
   ]
  },
  {
   "cell_type": "markdown",
   "metadata": {},
   "source": [
    "### LinePlot"
   ]
  },
  {
   "cell_type": "code",
   "execution_count": 4,
   "metadata": {
    "collapsed": false
   },
   "outputs": [
    {
     "data": {
      "text/html": [
       "<div id='d3viz_2' style='height:400px;width:700px'></div>"
      ],
      "text/plain": [
       "<IPython.core.display.HTML object>"
      ]
     },
     "metadata": {},
     "output_type": "display_data"
    },
    {
     "data": {
      "application/javascript": [
       "$(\"head\").append($(\"<link/>\").attr({\n",
       "  rel:  \"stylesheet\",\n",
       "  type: \"text/css\",\n",
       "  href: \"\"\n",
       "}));\n",
       "$.getScript(\"http://www.d3plus.org/js/d3.js\", function () {\n",
       "$.getScript(\"http://www.d3plus.org/js/d3plus.js\", function () {\n",
       "\n",
       "        (function (){\n",
       "            \n",
       "            var viz_data = [{\"name\": \"alpha\", \"value\": 17, \"year\": 1991}, {\"name\": \"alpha\", \"value\": 20, \"year\": 1992}, {\"name\": \"alpha\", \"value\": 25, \"year\": 1993}, {\"name\": \"alpha\", \"value\": 33, \"year\": 1994}, {\"name\": \"alpha\", \"value\": 52, \"year\": 1995}, {\"name\": \"beta\", \"value\": 36, \"year\": 1991}, {\"name\": \"beta\", \"value\": 32, \"year\": 1992}, {\"name\": \"beta\", \"value\": 40, \"year\": 1993}, {\"name\": \"beta\", \"value\": 58, \"year\": 1994}, {\"name\": \"beta\", \"value\": 13, \"year\": 1995}, {\"name\": \"gamma\", \"value\": 24, \"year\": 1991}, {\"name\": \"gamma\", \"value\": 27, \"year\": 1992}, {\"name\": \"gamma\", \"value\": 35, \"year\": 1994}, {\"name\": \"gamma\", \"value\": 40, \"year\": 1995}];\n",
       "\n",
       "            var viz_d3viz_2 = d3plus.viz()\n",
       "                .container('#d3viz_2')\n",
       "                .type('line')\n",
       "                .color('name')\n",
       "\t\t.text('name')\n",
       "\t\t.y('value')\n",
       "\t\t.x('year')\n",
       "\t\t.id('name')\n",
       "                .data(viz_data)\n",
       "                .draw();\n",
       "\n",
       "        })();\n",
       "        });\n",
       "});\n"
      ],
      "text/plain": [
       "<IPython.core.display.Javascript object>"
      ]
     },
     "metadata": {},
     "output_type": "display_data"
    }
   ],
   "source": [
    "sample_data = [\n",
    "    {\"year\": 1991, \"name\":\"alpha\", \"value\": 17},\n",
    "    {\"year\": 1992, \"name\":\"alpha\", \"value\": 20},\n",
    "    {\"year\": 1993, \"name\":\"alpha\", \"value\": 25},\n",
    "    {\"year\": 1994, \"name\":\"alpha\", \"value\": 33},\n",
    "    {\"year\": 1995, \"name\":\"alpha\", \"value\": 52},\n",
    "    {\"year\": 1991, \"name\":\"beta\", \"value\": 36},\n",
    "    {\"year\": 1992, \"name\":\"beta\", \"value\": 32},\n",
    "    {\"year\": 1993, \"name\":\"beta\", \"value\": 40},\n",
    "    {\"year\": 1994, \"name\":\"beta\", \"value\": 58},\n",
    "    {\"year\": 1995, \"name\":\"beta\", \"value\": 13},\n",
    "    {\"year\": 1991, \"name\":\"gamma\", \"value\": 24},\n",
    "    {\"year\": 1992, \"name\":\"gamma\", \"value\": 27},\n",
    "    {\"year\": 1994, \"name\":\"gamma\", \"value\": 35},\n",
    "    {\"year\": 1995, \"name\":\"gamma\", \"value\": 40}\n",
    "]\n",
    "\n",
    "lplot = LinePlot(x='year', y='value', id='name', text='name', width=700)\n",
    "lplot.draw(sample_data)"
   ]
  },
  {
   "cell_type": "markdown",
   "metadata": {},
   "source": [
    "### BarPlot"
   ]
  },
  {
   "cell_type": "code",
   "execution_count": 5,
   "metadata": {
    "collapsed": false,
    "scrolled": false
   },
   "outputs": [
    {
     "data": {
      "text/html": [
       "<div id='d3viz_3' style='height:400px;width:700px'></div>"
      ],
      "text/plain": [
       "<IPython.core.display.HTML object>"
      ]
     },
     "metadata": {},
     "output_type": "display_data"
    },
    {
     "data": {
      "application/javascript": [
       "$(\"head\").append($(\"<link/>\").attr({\n",
       "  rel:  \"stylesheet\",\n",
       "  type: \"text/css\",\n",
       "  href: \"\"\n",
       "}));\n",
       "$.getScript(\"http://www.d3plus.org/js/d3.js\", function () {\n",
       "$.getScript(\"http://www.d3plus.org/js/d3plus.js\", function () {\n",
       "\n",
       "        (function (){\n",
       "            \n",
       "            var viz_data = [{\"name\": \"alpha\", \"value\": 17, \"year\": 1991}, {\"name\": \"alpha\", \"value\": 20, \"year\": 1992}, {\"name\": \"alpha\", \"value\": 25, \"year\": 1993}, {\"name\": \"alpha\", \"value\": 33, \"year\": 1994}, {\"name\": \"alpha\", \"value\": 52, \"year\": 1995}, {\"name\": \"beta\", \"value\": 36, \"year\": 1991}, {\"name\": \"beta\", \"value\": 32, \"year\": 1992}, {\"name\": \"beta\", \"value\": 40, \"year\": 1993}, {\"name\": \"beta\", \"value\": 58, \"year\": 1994}, {\"name\": \"beta\", \"value\": 13, \"year\": 1995}, {\"name\": \"gamma\", \"value\": 24, \"year\": 1991}, {\"name\": \"gamma\", \"value\": 27, \"year\": 1992}, {\"name\": \"gamma\", \"value\": 35, \"year\": 1994}, {\"name\": \"gamma\", \"value\": 40, \"year\": 1995}];\n",
       "\n",
       "            var viz_d3viz_3 = d3plus.viz()\n",
       "                .container('#d3viz_3')\n",
       "                .type('bar')\n",
       "                .color('name')\n",
       "\t\t.text('name')\n",
       "\t\t.y('value')\n",
       "\t\t.x('year')\n",
       "\t\t.id('name')\n",
       "                .data(viz_data)\n",
       "                .draw();\n",
       "\n",
       "        })();\n",
       "        });\n",
       "});\n"
      ],
      "text/plain": [
       "<IPython.core.display.Javascript object>"
      ]
     },
     "metadata": {},
     "output_type": "display_data"
    }
   ],
   "source": [
    "# If the data is not defined in the cell containing the visualization,\n",
    "# you will sometimes have to rerun the cell containing the data beforehand\n",
    "# same thing if the tooltips suddently disappear\n",
    "\n",
    "bplot = BarPlot(x='year', y='value', id='name', text='name', width=700, height=400)\n",
    "bplot.draw(sample_data)"
   ]
  },
  {
   "cell_type": "markdown",
   "metadata": {},
   "source": [
    "### Box and Whisker plot \n",
    "\n",
    "Box and Whisker plot with an additional ui control to switch from bubble view (scatter to box plot. \n",
    "The `legend` key is set to False to prevent displaying the color legend"
   ]
  },
  {
   "cell_type": "code",
   "execution_count": 6,
   "metadata": {
    "collapsed": false
   },
   "outputs": [
    {
     "data": {
      "text/html": [
       "<div id='d3viz_4' style='height:400px;width:700px'></div>"
      ],
      "text/plain": [
       "<IPython.core.display.HTML object>"
      ]
     },
     "metadata": {},
     "output_type": "display_data"
    },
    {
     "data": {
      "application/javascript": [
       "$(\"head\").append($(\"<link/>\").attr({\n",
       "  rel:  \"stylesheet\",\n",
       "  type: \"text/css\",\n",
       "  href: \"\"\n",
       "}));\n",
       "$.getScript(\"http://www.d3plus.org/js/d3.js\", function () {\n",
       "$.getScript(\"http://www.d3plus.org/js/d3plus.js\", function () {\n",
       "\n",
       "        (function (){\n",
       "            \n",
       "            var viz_data = [{\"name\": \"alpha\", \"value\": 17, \"year\": 1991}, {\"name\": \"alpha\", \"value\": 20, \"year\": 1992}, {\"name\": \"alpha\", \"value\": 25, \"year\": 1993}, {\"name\": \"alpha\", \"value\": 33, \"year\": 1994}, {\"name\": \"alpha\", \"value\": 52, \"year\": 1995}, {\"name\": \"beta\", \"value\": 36, \"year\": 1991}, {\"name\": \"beta\", \"value\": 32, \"year\": 1992}, {\"name\": \"beta\", \"value\": 40, \"year\": 1993}, {\"name\": \"beta\", \"value\": 58, \"year\": 1994}, {\"name\": \"beta\", \"value\": 13, \"year\": 1995}, {\"name\": \"gamma\", \"value\": 24, \"year\": 1991}, {\"name\": \"gamma\", \"value\": 27, \"year\": 1992}, {\"name\": \"gamma\", \"value\": 35, \"year\": 1994}, {\"name\": \"gamma\", \"value\": 40, \"year\": 1995}];\n",
       "\n",
       "            var viz_d3viz_4 = d3plus.viz()\n",
       "                .container('#d3viz_4')\n",
       "                .type('box')\n",
       "                .color('name')\n",
       "\t\t.text('name')\n",
       "\t\t.legend(false)\n",
       "\t\t.ui([{'method': 'type','value': ['scatter','box'],'label': 'Visualization Type'}])\n",
       "\t\t.y('value')\n",
       "\t\t.x('year')\n",
       "\t\t.id('name')\n",
       "                .data(viz_data)\n",
       "                .draw();\n",
       "\n",
       "        })();\n",
       "        });\n",
       "});\n"
      ],
      "text/plain": [
       "<IPython.core.display.Javascript object>"
      ]
     },
     "metadata": {},
     "output_type": "display_data"
    }
   ],
   "source": [
    "bxplot = BoxPlot(x='year', y='value', id='name', legend=False, ui=[{\"label\": \"Visualization Type\", \"method\": \"type\", \"value\":[\"scatter\", \"box\"]}], width=700)\n",
    "bxplot.draw(sample_data)"
   ]
  },
  {
   "cell_type": "markdown",
   "metadata": {},
   "source": [
    "### Stacked  Area\n",
    "\n",
    "Stacked Area chart "
   ]
  },
  {
   "cell_type": "code",
   "execution_count": 7,
   "metadata": {
    "collapsed": false
   },
   "outputs": [
    {
     "data": {
      "text/html": [
       "<div id='d3viz_5' style='height:400px;width:700px'></div>"
      ],
      "text/plain": [
       "<IPython.core.display.HTML object>"
      ]
     },
     "metadata": {},
     "output_type": "display_data"
    },
    {
     "data": {
      "application/javascript": [
       "$(\"head\").append($(\"<link/>\").attr({\n",
       "  rel:  \"stylesheet\",\n",
       "  type: \"text/css\",\n",
       "  href: \"\"\n",
       "}));\n",
       "$.getScript(\"http://www.d3plus.org/js/d3.js\", function () {\n",
       "$.getScript(\"http://www.d3plus.org/js/d3plus.js\", function () {\n",
       "\n",
       "        (function (){\n",
       "            \n",
       "            var viz_data = [{\"name\": \"alpha\", \"value\": 17, \"year\": 1991}, {\"name\": \"alpha\", \"value\": 20, \"year\": 1992}, {\"name\": \"alpha\", \"value\": 25, \"year\": 1993}, {\"name\": \"alpha\", \"value\": 33, \"year\": 1994}, {\"name\": \"alpha\", \"value\": 52, \"year\": 1995}, {\"name\": \"beta\", \"value\": 36, \"year\": 1991}, {\"name\": \"beta\", \"value\": 32, \"year\": 1992}, {\"name\": \"beta\", \"value\": 40, \"year\": 1993}, {\"name\": \"beta\", \"value\": 58, \"year\": 1994}, {\"name\": \"beta\", \"value\": 13, \"year\": 1995}, {\"name\": \"gamma\", \"value\": 24, \"year\": 1991}, {\"name\": \"gamma\", \"value\": 27, \"year\": 1992}, {\"name\": \"gamma\", \"value\": 35, \"year\": 1994}, {\"name\": \"gamma\", \"value\": 40, \"year\": 1995}];\n",
       "\n",
       "            var viz_d3viz_5 = d3plus.viz()\n",
       "                .container('#d3viz_5')\n",
       "                .type('stacked')\n",
       "                .color('name')\n",
       "\t\t.text('name')\n",
       "\t\t.legend(false)\n",
       "\t\t.time('year')\n",
       "\t\t.y('value')\n",
       "\t\t.x('year')\n",
       "\t\t.id('name')\n",
       "                .data(viz_data)\n",
       "                .draw();\n",
       "\n",
       "        })();\n",
       "        });\n",
       "});\n"
      ],
      "text/plain": [
       "<IPython.core.display.Javascript object>"
      ]
     },
     "metadata": {},
     "output_type": "display_data"
    }
   ],
   "source": [
    "sarea = StackedArea(id=\"name\", text=\"name\", x=\"year\", y=\"value\", time=\"year\", legend=False, width=700)\n",
    "sarea.draw(sample_data)"
   ]
  },
  {
   "cell_type": "markdown",
   "metadata": {},
   "source": [
    "### TreeMap\n",
    "\n",
    "Tree Maps showing size of each element in the dataset. TreeMap add an additional `value` parameter that similar to the D3Plus `size` parameter but only accept a key argument and not object. Setting `value` is equivalent to this:\n",
    "\n",
    "```size:\"{'value': {value}, 'threshold': false }\"```\n"
   ]
  },
  {
   "cell_type": "code",
   "execution_count": 8,
   "metadata": {
    "collapsed": false
   },
   "outputs": [
    {
     "data": {
      "text/html": [
       "<div id='d3viz_6' style='height:400px;width:700px'></div>"
      ],
      "text/plain": [
       "<IPython.core.display.HTML object>"
      ]
     },
     "metadata": {},
     "output_type": "display_data"
    },
    {
     "data": {
      "application/javascript": [
       "$(\"head\").append($(\"<link/>\").attr({\n",
       "  rel:  \"stylesheet\",\n",
       "  type: \"text/css\",\n",
       "  href: \"\"\n",
       "}));\n",
       "$.getScript(\"http://www.d3plus.org/js/d3.js\", function () {\n",
       "$.getScript(\"http://www.d3plus.org/js/d3plus.js\", function () {\n",
       "\n",
       "        (function (){\n",
       "\n",
       "            \n",
       "\n",
       "            var viz_data = [{\"name\": \"alpha\", \"value\": 100}, {\"name\": \"beta\", \"value\": 70}, {\"name\": \"gamma\", \"value\": 40}, {\"name\": \"delta\", \"value\": 15}, {\"name\": \"epsilon\", \"value\": 5}, {\"name\": \"zeta\", \"value\": 1}];\n",
       "\n",
       "            var viz_d3viz_6 = d3plus.viz()\n",
       "                .container('#d3viz_6')\n",
       "                .data(viz_data)\n",
       "                .type(\"tree_map\")\n",
       "                .id('name')\n",
       "                .size('value')\n",
       "                .legend(true)\n",
       "                \n",
       "                \n",
       "                \n",
       "                .depth(0)\n",
       "                .draw();\n",
       "\n",
       "        })();\n",
       "        });\n",
       "});\n"
      ],
      "text/plain": [
       "<IPython.core.display.Javascript object>"
      ]
     },
     "metadata": {},
     "output_type": "display_data"
    }
   ],
   "source": [
    "pie_data = [\n",
    "    {\"value\": 100, \"name\": \"alpha\"},\n",
    "    {\"value\": 70, \"name\": \"beta\"},\n",
    "    {\"value\": 40, \"name\": \"gamma\"},\n",
    "    {\"value\": 15, \"name\": \"delta\"},\n",
    "    {\"value\": 5, \"name\": \"epsilon\"},\n",
    "    {\"value\": 1, \"name\": \"zeta\"}\n",
    "]\n",
    "tmap = TreeMap(id=\"name\", size=\"value\", legend=True, width=700)\n",
    "tmap.draw(pie_data)"
   ]
  },
  {
   "cell_type": "markdown",
   "metadata": {
    "collapsed": true
   },
   "source": [
    "### GeoMap\n",
    "\n",
    "An easy way to map data to locations around the world. The .id( ) key in your data must match the \"id\" key in the topojson that you import. By default the topojson countries coordinates provided by D3Plus is used. You can import your own using the `coords` argument. \n",
    "\n",
    "__GeoMap cannot be dislayed in the notebook and therefore are not automatically imported. The following code is only useful for automatically generating the js code from python.__\n",
    "\n",
    "\n"
   ]
  },
  {
   "cell_type": "code",
   "execution_count": 9,
   "metadata": {
    "collapsed": false,
    "scrolled": false
   },
   "outputs": [
    {
     "name": "stdout",
     "output_type": "stream",
     "text": [
      "\n",
      "        <script src='http://www.d3plus.org/js/d3.js' type='text/javascript'></script>\n",
      "\t<script src='http://www.d3plus.org/js/topojson.js' type='text/javascript'></script>\n",
      "\t<script src='http://www.d3plus.org/js/d3plus.js' type='text/javascript'></script>\n",
      "        <div id='d3viz_7'></div>\n",
      "        <style>\n",
      "        div#d3viz_7{\n",
      "             width: 300px;\n",
      "             height: 300px;\n",
      "        }\n",
      "        \n",
      "        </style>\n",
      "        <script>\n",
      "            \n",
      "        (function (){\n",
      "\n",
      "            \n",
      "\n",
      "            var viz_data = [{\"country\": \"nausa\", \"name\": \"United States\", \"value\": 2315987123}, {\"country\": \"aschn\", \"name\": \"China\", \"value\": 38157121349}, {\"country\": \"euesp\", \"name\": \"Spain\", \"value\": 21891735098}, {\"country\": \"sabra\", \"name\": \"Brazil\", \"value\": 9807134982}];\n",
      "\n",
      "            var viz_d3viz_7 = d3plus.viz()\n",
      "                .container('#d3viz_7')\n",
      "                .data(viz_data)\n",
      "                .type(\"geo_map\")\n",
      "                .coords('http://d3plus.org/topojson/countries.json')\n",
      "                .id('country')\n",
      "                .text('name')\n",
      "                .color('value')\n",
      "                .tooltip('value')\n",
      "                .draw();\n",
      "\n",
      "        })();\n",
      "        \n",
      "        </script>\n",
      "        \n"
     ]
    }
   ],
   "source": [
    "import d3IpyPlus\n",
    "topo_data = [\n",
    "    {\"value\": 2315987123, \"country\": \"nausa\", \"name\": \"United States\"},\n",
    "    {\"value\": 38157121349, \"country\": \"aschn\", \"name\": \"China\"},\n",
    "    {\"value\": 21891735098, \"country\": \"euesp\", \"name\": \"Spain\"},\n",
    "    {\"value\": 9807134982, \"country\": \"sabra\", \"name\": \"Brazil\"}\n",
    "]\n",
    "# by default id is mapped to country key\n",
    "# and color and tooltip are the same as the value parameter\n",
    "geo = d3IpyPlus._GeoMap(id=\"country\", value=\"value\", text=\"name\")\n",
    "geo_html = geo.dump_html(topo_data)\n",
    "print geo_html\n",
    "   "
   ]
  },
  {
   "cell_type": "markdown",
   "metadata": {},
   "source": [
    "### A real life Tree Map example \n",
    "In this section, we will use `D3IpyPlus` to inspect import partners of Benin in 2016. \n",
    "The dataset (csv) was downloaded from the observatory of economic complexity ==> atlas.media.mit.edu/fr/profile/country/ben/.\n",
    "\n",
    "Since `D3IpyPlus` support pandas dataframe as data input, we only have to load the csv data and plug it directly into a `TreeMap` object."
   ]
  },
  {
   "cell_type": "code",
   "execution_count": 10,
   "metadata": {
    "collapsed": false
   },
   "outputs": [
    {
     "data": {
      "text/html": [
       "<div>\n",
       "<style scoped>\n",
       "    .dataframe tbody tr th:only-of-type {\n",
       "        vertical-align: middle;\n",
       "    }\n",
       "\n",
       "    .dataframe tbody tr th {\n",
       "        vertical-align: top;\n",
       "    }\n",
       "\n",
       "    .dataframe thead th {\n",
       "        text-align: right;\n",
       "    }\n",
       "</style>\n",
       "<table border=\"1\" class=\"dataframe\">\n",
       "  <thead>\n",
       "    <tr style=\"text-align: right;\">\n",
       "      <th></th>\n",
       "      <th>year</th>\n",
       "      <th>country_origin_id</th>\n",
       "      <th>country_destination_id</th>\n",
       "      <th>hs92_product_id</th>\n",
       "      <th>import_val</th>\n",
       "      <th>import_val_pct</th>\n",
       "    </tr>\n",
       "  </thead>\n",
       "  <tbody>\n",
       "    <tr>\n",
       "      <th>0</th>\n",
       "      <td>2016</td>\n",
       "      <td>BEN</td>\n",
       "      <td>AGO</td>\n",
       "      <td>ALL</td>\n",
       "      <td>33188982</td>\n",
       "      <td>1.3%</td>\n",
       "    </tr>\n",
       "    <tr>\n",
       "      <th>1</th>\n",
       "      <td>2016</td>\n",
       "      <td>BEN</td>\n",
       "      <td>BDI</td>\n",
       "      <td>ALL</td>\n",
       "      <td>8226</td>\n",
       "      <td>0.00031%</td>\n",
       "    </tr>\n",
       "    <tr>\n",
       "      <th>2</th>\n",
       "      <td>2016</td>\n",
       "      <td>BEN</td>\n",
       "      <td>BEN</td>\n",
       "      <td>ALL</td>\n",
       "      <td>1809</td>\n",
       "      <td>0.000069%</td>\n",
       "    </tr>\n",
       "    <tr>\n",
       "      <th>3</th>\n",
       "      <td>2016</td>\n",
       "      <td>BEN</td>\n",
       "      <td>BFA</td>\n",
       "      <td>ALL</td>\n",
       "      <td>1052344</td>\n",
       "      <td>0.040%</td>\n",
       "    </tr>\n",
       "    <tr>\n",
       "      <th>4</th>\n",
       "      <td>2016</td>\n",
       "      <td>BEN</td>\n",
       "      <td>BWA</td>\n",
       "      <td>ALL</td>\n",
       "      <td>2597</td>\n",
       "      <td>0.000099%</td>\n",
       "    </tr>\n",
       "  </tbody>\n",
       "</table>\n",
       "</div>"
      ],
      "text/plain": [
       "   year country_origin_id country_destination_id hs92_product_id  import_val  \\\n",
       "0  2016               BEN                    AGO             ALL    33188982   \n",
       "1  2016               BEN                    BDI             ALL        8226   \n",
       "2  2016               BEN                    BEN             ALL        1809   \n",
       "3  2016               BEN                    BFA             ALL     1052344   \n",
       "4  2016               BEN                    BWA             ALL        2597   \n",
       "\n",
       "  import_val_pct  \n",
       "0           1.3%  \n",
       "1       0.00031%  \n",
       "2      0.000069%  \n",
       "3         0.040%  \n",
       "4      0.000099%  "
      ]
     },
     "execution_count": 10,
     "metadata": {},
     "output_type": "execute_result"
    }
   ],
   "source": [
    "import pandas as pd\n",
    "# load a panda dataframe \n",
    "# this dataset contains goods imported by Benin in 2016\n",
    "df = pd.read_csv('example/en_profile_country_ben_import_des.csv')\n",
    "df.head()"
   ]
  },
  {
   "cell_type": "markdown",
   "metadata": {},
   "source": [
    "  \n",
    "    \n",
    "#### Alternatively, we can use the from_csv method provided by d3ipyplus, which does the same thing but can also take a function as input for data preprocessing.    \n",
    "    \n",
    "   "
   ]
  },
  {
   "cell_type": "code",
   "execution_count": 11,
   "metadata": {
    "collapsed": false
   },
   "outputs": [
    {
     "name": "stdout",
     "output_type": "stream",
     "text": [
      "   year country_origin_id country_destination_id  import_val  \\\n",
      "0  2016               BEN                    AGO    33188982   \n",
      "1  2016               BEN                    BDI        8226   \n",
      "2  2016               BEN                    BEN        1809   \n",
      "3  2016               BEN                    BFA     1052344   \n",
      "4  2016               BEN                    BWA        2597   \n",
      "\n",
      "  country_destination_name country_destination_continent  \n",
      "0                   Angola                        Africa  \n",
      "1                  Burundi                        Africa  \n",
      "2                    Benin                        Africa  \n",
      "3             Burkina Faso                        Africa  \n",
      "4                 Botswana                        Africa  \n"
     ]
    }
   ],
   "source": [
    "# let's keep the following columns only\n",
    "cols = ['year', 'country_origin_id', 'country_destination_id', 'import_val']\n",
    "\n",
    "# then process the data to add new columns corresponding to each country full name and continent\n",
    "from incf.countryutils import transformations as tf\n",
    "from functools import partial\n",
    "\n",
    "def add_continent(df, colname):\n",
    "    dest_info = []\n",
    "    for x in df[colname]:\n",
    "        ccn_code = tf.data.cca3_to_ccn.get(x)\n",
    "        country = x\n",
    "        contnt = \"Unknown\" #because incf doesn't have all countries\n",
    "        if ccn_code:\n",
    "            country = tf.ccn_to_cn(ccn_code)\n",
    "            contnt = tf.ccn_to_ctn(ccn_code)\n",
    "        dest_info.append([country, contnt])\n",
    "    dest_info = pd.DataFrame(dest_info, columns=['country_destination_name', 'country_destination_continent'])\n",
    "    df = pd.concat([df, dest_info], axis=1)\n",
    "    return df\n",
    "\n",
    "# we are going to pass add_continent as an argument for from_csv\n",
    "df = from_csv('example/en_profile_country_ben_import_des.csv', columns=cols, \n",
    "              process_func=partial(add_continent, colname='country_destination_id'))\n",
    "\n",
    "print df.head()"
   ]
  },
  {
   "cell_type": "markdown",
   "metadata": {},
   "source": [
    "  \n",
    " #### Now let's make a Tree Map from that dataset\n",
    "  "
   ]
  },
  {
   "cell_type": "code",
   "execution_count": 12,
   "metadata": {
    "collapsed": false
   },
   "outputs": [
    {
     "data": {
      "text/html": [
       "<div id='d3viz_8' style='height:400px;width:700px'></div>"
      ],
      "text/plain": [
       "<IPython.core.display.HTML object>"
      ]
     },
     "metadata": {},
     "output_type": "display_data"
    },
    {
     "data": {
      "application/javascript": [
       "$(\"head\").append($(\"<link/>\").attr({\n",
       "  rel:  \"stylesheet\",\n",
       "  type: \"text/css\",\n",
       "  href: \"\"\n",
       "}));\n",
       "$.getScript(\"http://www.d3plus.org/js/d3.js\", function () {\n",
       "$.getScript(\"http://www.d3plus.org/js/d3plus.js\", function () {\n",
       "\n",
       "        (function (){\n",
       "\n",
       "            \n",
       "\n",
       "            var viz_data = [{\"year\":2016,\"country_origin_id\":\"BEN\",\"country_destination_id\":\"AGO\",\"import_val\":33188982,\"country_destination_name\":\"Angola\",\"country_destination_continent\":\"Africa\"},{\"year\":2016,\"country_origin_id\":\"BEN\",\"country_destination_id\":\"BDI\",\"import_val\":8226,\"country_destination_name\":\"Burundi\",\"country_destination_continent\":\"Africa\"},{\"year\":2016,\"country_origin_id\":\"BEN\",\"country_destination_id\":\"BEN\",\"import_val\":1809,\"country_destination_name\":\"Benin\",\"country_destination_continent\":\"Africa\"},{\"year\":2016,\"country_origin_id\":\"BEN\",\"country_destination_id\":\"BFA\",\"import_val\":1052344,\"country_destination_name\":\"Burkina Faso\",\"country_destination_continent\":\"Africa\"},{\"year\":2016,\"country_origin_id\":\"BEN\",\"country_destination_id\":\"BWA\",\"import_val\":2597,\"country_destination_name\":\"Botswana\",\"country_destination_continent\":\"Africa\"},{\"year\":2016,\"country_origin_id\":\"BEN\",\"country_destination_id\":\"CIV\",\"import_val\":24870313,\"country_destination_name\":\"Cote d'Ivoire\",\"country_destination_continent\":\"Africa\"},{\"year\":2016,\"country_origin_id\":\"BEN\",\"country_destination_id\":\"CMR\",\"import_val\":5344266,\"country_destination_name\":\"Cameroon\",\"country_destination_continent\":\"Africa\"},{\"year\":2016,\"country_origin_id\":\"BEN\",\"country_destination_id\":\"COD\",\"import_val\":370497,\"country_destination_name\":\"Congo\",\"country_destination_continent\":\"Africa\"},{\"year\":2016,\"country_origin_id\":\"BEN\",\"country_destination_id\":\"COG\",\"import_val\":2097686,\"country_destination_name\":\"Congo\",\"country_destination_continent\":\"Africa\"},{\"year\":2016,\"country_origin_id\":\"BEN\",\"country_destination_id\":\"CPV\",\"import_val\":4546,\"country_destination_name\":\"Cape Verde\",\"country_destination_continent\":\"Africa\"},{\"year\":2016,\"country_origin_id\":\"BEN\",\"country_destination_id\":\"DJI\",\"import_val\":453169,\"country_destination_name\":\"Djibouti\",\"country_destination_continent\":\"Africa\"},{\"year\":2016,\"country_origin_id\":\"BEN\",\"country_destination_id\":\"DZA\",\"import_val\":2159932,\"country_destination_name\":\"Algeria\",\"country_destination_continent\":\"Africa\"},{\"year\":2016,\"country_origin_id\":\"BEN\",\"country_destination_id\":\"EGY\",\"import_val\":4018903,\"country_destination_name\":\"Egypt\",\"country_destination_continent\":\"Africa\"},{\"year\":2016,\"country_origin_id\":\"BEN\",\"country_destination_id\":\"ETH\",\"import_val\":1591015,\"country_destination_name\":\"Ethiopia\",\"country_destination_continent\":\"Africa\"},{\"year\":2016,\"country_origin_id\":\"BEN\",\"country_destination_id\":\"GAB\",\"import_val\":827910,\"country_destination_name\":\"Gabon\",\"country_destination_continent\":\"Africa\"},{\"year\":2016,\"country_origin_id\":\"BEN\",\"country_destination_id\":\"GHA\",\"import_val\":19768830,\"country_destination_name\":\"Ghana\",\"country_destination_continent\":\"Africa\"},{\"year\":2016,\"country_origin_id\":\"BEN\",\"country_destination_id\":\"GIN\",\"import_val\":1495860,\"country_destination_name\":\"Guinea\",\"country_destination_continent\":\"Africa\"},{\"year\":2016,\"country_origin_id\":\"BEN\",\"country_destination_id\":\"GMB\",\"import_val\":17816,\"country_destination_name\":\"Gambia\",\"country_destination_continent\":\"Africa\"},{\"year\":2016,\"country_origin_id\":\"BEN\",\"country_destination_id\":\"GNB\",\"import_val\":568853,\"country_destination_name\":\"Guinea-Bissau\",\"country_destination_continent\":\"Africa\"},{\"year\":2016,\"country_origin_id\":\"BEN\",\"country_destination_id\":\"GNQ\",\"import_val\":11573747,\"country_destination_name\":\"Equatorial Guinea\",\"country_destination_continent\":\"Africa\"},{\"year\":2016,\"country_origin_id\":\"BEN\",\"country_destination_id\":\"KEN\",\"import_val\":37761,\"country_destination_name\":\"Kenya\",\"country_destination_continent\":\"Africa\"},{\"year\":2016,\"country_origin_id\":\"BEN\",\"country_destination_id\":\"LBR\",\"import_val\":51101,\"country_destination_name\":\"Liberia\",\"country_destination_continent\":\"Africa\"},{\"year\":2016,\"country_origin_id\":\"BEN\",\"country_destination_id\":\"LBY\",\"import_val\":231011,\"country_destination_name\":\"Libyan Arab Jamahiriya\",\"country_destination_continent\":\"Africa\"},{\"year\":2016,\"country_origin_id\":\"BEN\",\"country_destination_id\":\"MAR\",\"import_val\":39989052,\"country_destination_name\":\"Morocco\",\"country_destination_continent\":\"Africa\"},{\"year\":2016,\"country_origin_id\":\"BEN\",\"country_destination_id\":\"MDG\",\"import_val\":205794,\"country_destination_name\":\"Madagascar\",\"country_destination_continent\":\"Africa\"},{\"year\":2016,\"country_origin_id\":\"BEN\",\"country_destination_id\":\"MLI\",\"import_val\":903848,\"country_destination_name\":\"Mali\",\"country_destination_continent\":\"Africa\"},{\"year\":2016,\"country_origin_id\":\"BEN\",\"country_destination_id\":\"MRT\",\"import_val\":35917068,\"country_destination_name\":\"Mauritania\",\"country_destination_continent\":\"Africa\"},{\"year\":2016,\"country_origin_id\":\"BEN\",\"country_destination_id\":\"MUS\",\"import_val\":21529,\"country_destination_name\":\"Mauritius\",\"country_destination_continent\":\"Africa\"},{\"year\":2016,\"country_origin_id\":\"BEN\",\"country_destination_id\":\"NAM\",\"import_val\":9199707,\"country_destination_name\":\"Namibia\",\"country_destination_continent\":\"Africa\"},{\"year\":2016,\"country_origin_id\":\"BEN\",\"country_destination_id\":\"NER\",\"import_val\":675567,\"country_destination_name\":\"Niger\",\"country_destination_continent\":\"Africa\"},{\"year\":2016,\"country_origin_id\":\"BEN\",\"country_destination_id\":\"NGA\",\"import_val\":39018853,\"country_destination_name\":\"Nigeria\",\"country_destination_continent\":\"Africa\"},{\"year\":2016,\"country_origin_id\":\"BEN\",\"country_destination_id\":\"RWA\",\"import_val\":138774,\"country_destination_name\":\"Rwanda\",\"country_destination_continent\":\"Africa\"},{\"year\":2016,\"country_origin_id\":\"BEN\",\"country_destination_id\":\"SDN\",\"import_val\":1871,\"country_destination_name\":\"Sudan\",\"country_destination_continent\":\"Africa\"},{\"year\":2016,\"country_origin_id\":\"BEN\",\"country_destination_id\":\"SEN\",\"import_val\":11386468,\"country_destination_name\":\"Senegal\",\"country_destination_continent\":\"Africa\"},{\"year\":2016,\"country_origin_id\":\"BEN\",\"country_destination_id\":\"SLE\",\"import_val\":63944,\"country_destination_name\":\"Sierra Leone\",\"country_destination_continent\":\"Africa\"},{\"year\":2016,\"country_origin_id\":\"BEN\",\"country_destination_id\":\"SOM\",\"import_val\":34,\"country_destination_name\":\"Somalia\",\"country_destination_continent\":\"Africa\"},{\"year\":2016,\"country_origin_id\":\"BEN\",\"country_destination_id\":\"SWZ\",\"import_val\":184306,\"country_destination_name\":\"Swaziland\",\"country_destination_continent\":\"Africa\"},{\"year\":2016,\"country_origin_id\":\"BEN\",\"country_destination_id\":\"SYC\",\"import_val\":73669,\"country_destination_name\":\"Seychelles\",\"country_destination_continent\":\"Africa\"},{\"year\":2016,\"country_origin_id\":\"BEN\",\"country_destination_id\":\"TCD\",\"import_val\":11218,\"country_destination_name\":\"Chad\",\"country_destination_continent\":\"Africa\"},{\"year\":2016,\"country_origin_id\":\"BEN\",\"country_destination_id\":\"TGO\",\"import_val\":191347145,\"country_destination_name\":\"Togo\",\"country_destination_continent\":\"Africa\"},{\"year\":2016,\"country_origin_id\":\"BEN\",\"country_destination_id\":\"TUN\",\"import_val\":4440954,\"country_destination_name\":\"Tunisia\",\"country_destination_continent\":\"Africa\"},{\"year\":2016,\"country_origin_id\":\"BEN\",\"country_destination_id\":\"TZA\",\"import_val\":80682,\"country_destination_name\":\"Tanzania\",\"country_destination_continent\":\"Africa\"},{\"year\":2016,\"country_origin_id\":\"BEN\",\"country_destination_id\":\"UGA\",\"import_val\":168,\"country_destination_name\":\"Uganda\",\"country_destination_continent\":\"Africa\"},{\"year\":2016,\"country_origin_id\":\"BEN\",\"country_destination_id\":\"ZAF\",\"import_val\":15665990,\"country_destination_name\":\"South Africa\",\"country_destination_continent\":\"Africa\"},{\"year\":2016,\"country_origin_id\":\"BEN\",\"country_destination_id\":\"ZMB\",\"import_val\":2527,\"country_destination_name\":\"Zambia\",\"country_destination_continent\":\"Africa\"},{\"year\":2016,\"country_origin_id\":\"BEN\",\"country_destination_id\":\"ZWE\",\"import_val\":1516,\"country_destination_name\":\"Zimbabwe\",\"country_destination_continent\":\"Africa\"},{\"year\":2016,\"country_origin_id\":\"BEN\",\"country_destination_id\":\"AFG\",\"import_val\":32168,\"country_destination_name\":\"Afghanistan\",\"country_destination_continent\":\"Asia\"},{\"year\":2016,\"country_origin_id\":\"BEN\",\"country_destination_id\":\"ARE\",\"import_val\":64634915,\"country_destination_name\":\"United Arab Emirates\",\"country_destination_continent\":\"Asia\"},{\"year\":2016,\"country_origin_id\":\"BEN\",\"country_destination_id\":\"ARM\",\"import_val\":10876,\"country_destination_name\":\"Armenia\",\"country_destination_continent\":\"Asia\"},{\"year\":2016,\"country_origin_id\":\"BEN\",\"country_destination_id\":\"BGD\",\"import_val\":76716,\"country_destination_name\":\"Bangladesh\",\"country_destination_continent\":\"Asia\"},{\"year\":2016,\"country_origin_id\":\"BEN\",\"country_destination_id\":\"BHR\",\"import_val\":94757,\"country_destination_name\":\"Bahrain\",\"country_destination_continent\":\"Asia\"},{\"year\":2016,\"country_origin_id\":\"BEN\",\"country_destination_id\":\"CHN\",\"import_val\":221437352,\"country_destination_name\":\"China\",\"country_destination_continent\":\"Asia\"},{\"year\":2016,\"country_origin_id\":\"BEN\",\"country_destination_id\":\"CYP\",\"import_val\":46773,\"country_destination_name\":\"Cyprus\",\"country_destination_continent\":\"Asia\"},{\"year\":2016,\"country_origin_id\":\"BEN\",\"country_destination_id\":\"GEO\",\"import_val\":35730,\"country_destination_name\":\"Georgia\",\"country_destination_continent\":\"Asia\"},{\"year\":2016,\"country_origin_id\":\"BEN\",\"country_destination_id\":\"HKG\",\"import_val\":10009482,\"country_destination_name\":\"Hong Kong\",\"country_destination_continent\":\"Asia\"},{\"year\":2016,\"country_origin_id\":\"BEN\",\"country_destination_id\":\"IDN\",\"import_val\":12214313,\"country_destination_name\":\"Indonesia\",\"country_destination_continent\":\"Asia\"},{\"year\":2016,\"country_origin_id\":\"BEN\",\"country_destination_id\":\"IND\",\"import_val\":391720937,\"country_destination_name\":\"India\",\"country_destination_continent\":\"Asia\"},{\"year\":2016,\"country_origin_id\":\"BEN\",\"country_destination_id\":\"IRN\",\"import_val\":1025421,\"country_destination_name\":\"Iran\",\"country_destination_continent\":\"Asia\"},{\"year\":2016,\"country_origin_id\":\"BEN\",\"country_destination_id\":\"ISR\",\"import_val\":67510,\"country_destination_name\":\"Israel\",\"country_destination_continent\":\"Asia\"},{\"year\":2016,\"country_origin_id\":\"BEN\",\"country_destination_id\":\"JOR\",\"import_val\":23977,\"country_destination_name\":\"Jordan\",\"country_destination_continent\":\"Asia\"},{\"year\":2016,\"country_origin_id\":\"BEN\",\"country_destination_id\":\"JPN\",\"import_val\":9778360,\"country_destination_name\":\"Japan\",\"country_destination_continent\":\"Asia\"},{\"year\":2016,\"country_origin_id\":\"BEN\",\"country_destination_id\":\"KGZ\",\"import_val\":6244,\"country_destination_name\":\"Kyrgyz Republic\",\"country_destination_continent\":\"Asia\"},{\"year\":2016,\"country_origin_id\":\"BEN\",\"country_destination_id\":\"KOR\",\"import_val\":16819716,\"country_destination_name\":\"Korea\",\"country_destination_continent\":\"Asia\"},{\"year\":2016,\"country_origin_id\":\"BEN\",\"country_destination_id\":\"KWT\",\"import_val\":351037,\"country_destination_name\":\"Kuwait\",\"country_destination_continent\":\"Asia\"},{\"year\":2016,\"country_origin_id\":\"BEN\",\"country_destination_id\":\"LBN\",\"import_val\":6161757,\"country_destination_name\":\"Lebanon\",\"country_destination_continent\":\"Asia\"},{\"year\":2016,\"country_origin_id\":\"BEN\",\"country_destination_id\":\"LKA\",\"import_val\":464679,\"country_destination_name\":\"Sri Lanka\",\"country_destination_continent\":\"Asia\"},{\"year\":2016,\"country_origin_id\":\"BEN\",\"country_destination_id\":\"MAC\",\"import_val\":111,\"country_destination_name\":\"Macao\",\"country_destination_continent\":\"Asia\"},{\"year\":2016,\"country_origin_id\":\"BEN\",\"country_destination_id\":\"MYS\",\"import_val\":66479314,\"country_destination_name\":\"Malaysia\",\"country_destination_continent\":\"Asia\"},{\"year\":2016,\"country_origin_id\":\"BEN\",\"country_destination_id\":\"NPL\",\"import_val\":2022,\"country_destination_name\":\"Nepal\",\"country_destination_continent\":\"Asia\"},{\"year\":2016,\"country_origin_id\":\"BEN\",\"country_destination_id\":\"PAK\",\"import_val\":20374449,\"country_destination_name\":\"Pakistan\",\"country_destination_continent\":\"Asia\"},{\"year\":2016,\"country_origin_id\":\"BEN\",\"country_destination_id\":\"PHL\",\"import_val\":10849,\"country_destination_name\":\"Philippines\",\"country_destination_continent\":\"Asia\"},{\"year\":2016,\"country_origin_id\":\"BEN\",\"country_destination_id\":\"PRK\",\"import_val\":60186,\"country_destination_name\":\"Korea\",\"country_destination_continent\":\"Asia\"},{\"year\":2016,\"country_origin_id\":\"BEN\",\"country_destination_id\":\"QAT\",\"import_val\":157039,\"country_destination_name\":\"Qatar\",\"country_destination_continent\":\"Asia\"},{\"year\":2016,\"country_origin_id\":\"BEN\",\"country_destination_id\":\"SAU\",\"import_val\":10651978,\"country_destination_name\":\"Saudi Arabia\",\"country_destination_continent\":\"Asia\"},{\"year\":2016,\"country_origin_id\":\"BEN\",\"country_destination_id\":\"SGP\",\"import_val\":24982547,\"country_destination_name\":\"Singapore\",\"country_destination_continent\":\"Asia\"},{\"year\":2016,\"country_origin_id\":\"BEN\",\"country_destination_id\":\"THA\",\"import_val\":326504544,\"country_destination_name\":\"Thailand\",\"country_destination_continent\":\"Asia\"},{\"year\":2016,\"country_origin_id\":\"BEN\",\"country_destination_id\":\"TKM\",\"import_val\":1218,\"country_destination_name\":\"Turkmenistan\",\"country_destination_continent\":\"Asia\"},{\"year\":2016,\"country_origin_id\":\"BEN\",\"country_destination_id\":\"TLS\",\"import_val\":4125,\"country_destination_name\":\"Timor-Leste\",\"country_destination_continent\":\"Asia\"},{\"year\":2016,\"country_origin_id\":\"BEN\",\"country_destination_id\":\"TUR\",\"import_val\":33868901,\"country_destination_name\":\"Turkey\",\"country_destination_continent\":\"Asia\"},{\"year\":2016,\"country_origin_id\":\"BEN\",\"country_destination_id\":\"VNM\",\"import_val\":2966820,\"country_destination_name\":\"Vietnam\",\"country_destination_continent\":\"Asia\"},{\"year\":2016,\"country_origin_id\":\"BEN\",\"country_destination_id\":\"YEM\",\"import_val\":50544,\"country_destination_name\":\"Yemen\",\"country_destination_continent\":\"Asia\"},{\"year\":2016,\"country_origin_id\":\"BEN\",\"country_destination_id\":\"ALB\",\"import_val\":88188,\"country_destination_name\":\"Albania\",\"country_destination_continent\":\"Europe\"},{\"year\":2016,\"country_origin_id\":\"BEN\",\"country_destination_id\":\"AND\",\"import_val\":8563,\"country_destination_name\":\"Andorra\",\"country_destination_continent\":\"Europe\"},{\"year\":2016,\"country_origin_id\":\"BEN\",\"country_destination_id\":\"AUT\",\"import_val\":468379,\"country_destination_name\":\"Austria\",\"country_destination_continent\":\"Europe\"},{\"year\":2016,\"country_origin_id\":\"BEN\",\"country_destination_id\":\"BEL\",\"import_val\":122625050,\"country_destination_name\":\"Belgium\",\"country_destination_continent\":\"Europe\"},{\"year\":2016,\"country_origin_id\":\"BEN\",\"country_destination_id\":\"BGR\",\"import_val\":446341,\"country_destination_name\":\"Bulgaria\",\"country_destination_continent\":\"Europe\"},{\"year\":2016,\"country_origin_id\":\"BEN\",\"country_destination_id\":\"BIH\",\"import_val\":136372,\"country_destination_name\":\"Bosnia and Herzegovina\",\"country_destination_continent\":\"Europe\"},{\"year\":2016,\"country_origin_id\":\"BEN\",\"country_destination_id\":\"CHE\",\"import_val\":29476175,\"country_destination_name\":\"Switzerland\",\"country_destination_continent\":\"Europe\"},{\"year\":2016,\"country_origin_id\":\"BEN\",\"country_destination_id\":\"CZE\",\"import_val\":195023,\"country_destination_name\":\"Czech Republic\",\"country_destination_continent\":\"Europe\"},{\"year\":2016,\"country_origin_id\":\"BEN\",\"country_destination_id\":\"DEU\",\"import_val\":52012424,\"country_destination_name\":\"Germany\",\"country_destination_continent\":\"Europe\"},{\"year\":2016,\"country_origin_id\":\"BEN\",\"country_destination_id\":\"DNK\",\"import_val\":7430426,\"country_destination_name\":\"Denmark\",\"country_destination_continent\":\"Europe\"},{\"year\":2016,\"country_origin_id\":\"BEN\",\"country_destination_id\":\"ESP\",\"import_val\":53144729,\"country_destination_name\":\"Spain\",\"country_destination_continent\":\"Europe\"},{\"year\":2016,\"country_origin_id\":\"BEN\",\"country_destination_id\":\"EST\",\"import_val\":96655,\"country_destination_name\":\"Estonia\",\"country_destination_continent\":\"Europe\"},{\"year\":2016,\"country_origin_id\":\"BEN\",\"country_destination_id\":\"FIN\",\"import_val\":1503271,\"country_destination_name\":\"Finland\",\"country_destination_continent\":\"Europe\"},{\"year\":2016,\"country_origin_id\":\"BEN\",\"country_destination_id\":\"FRA\",\"import_val\":264930969,\"country_destination_name\":\"France\",\"country_destination_continent\":\"Europe\"},{\"year\":2016,\"country_origin_id\":\"BEN\",\"country_destination_id\":\"GBR\",\"import_val\":33476963,\"country_destination_name\":\"United Kingdom of Great Britain & Northern Ireland\",\"country_destination_continent\":\"Europe\"},{\"year\":2016,\"country_origin_id\":\"BEN\",\"country_destination_id\":\"GIB\",\"import_val\":186955,\"country_destination_name\":\"Gibraltar\",\"country_destination_continent\":\"Europe\"},{\"year\":2016,\"country_origin_id\":\"BEN\",\"country_destination_id\":\"GRC\",\"import_val\":2361852,\"country_destination_name\":\"Greece\",\"country_destination_continent\":\"Europe\"},{\"year\":2016,\"country_origin_id\":\"BEN\",\"country_destination_id\":\"HRV\",\"import_val\":85546,\"country_destination_name\":\"Croatia\",\"country_destination_continent\":\"Europe\"},{\"year\":2016,\"country_origin_id\":\"BEN\",\"country_destination_id\":\"HUN\",\"import_val\":535593,\"country_destination_name\":\"Hungary\",\"country_destination_continent\":\"Europe\"},{\"year\":2016,\"country_origin_id\":\"BEN\",\"country_destination_id\":\"IRL\",\"import_val\":2694262,\"country_destination_name\":\"Ireland\",\"country_destination_continent\":\"Europe\"},{\"year\":2016,\"country_origin_id\":\"BEN\",\"country_destination_id\":\"ISL\",\"import_val\":1638948,\"country_destination_name\":\"Iceland\",\"country_destination_continent\":\"Europe\"},{\"year\":2016,\"country_origin_id\":\"BEN\",\"country_destination_id\":\"ITA\",\"import_val\":25820035,\"country_destination_name\":\"Italy\",\"country_destination_continent\":\"Europe\"},{\"year\":2016,\"country_origin_id\":\"BEN\",\"country_destination_id\":\"LTU\",\"import_val\":2889265,\"country_destination_name\":\"Lithuania\",\"country_destination_continent\":\"Europe\"},{\"year\":2016,\"country_origin_id\":\"BEN\",\"country_destination_id\":\"LUX\",\"import_val\":142182,\"country_destination_name\":\"Luxembourg\",\"country_destination_continent\":\"Europe\"},{\"year\":2016,\"country_origin_id\":\"BEN\",\"country_destination_id\":\"LVA\",\"import_val\":99735,\"country_destination_name\":\"Latvia\",\"country_destination_continent\":\"Europe\"},{\"year\":2016,\"country_origin_id\":\"BEN\",\"country_destination_id\":\"MDA\",\"import_val\":6846,\"country_destination_name\":\"Moldova\",\"country_destination_continent\":\"Europe\"},{\"year\":2016,\"country_origin_id\":\"BEN\",\"country_destination_id\":\"MLT\",\"import_val\":29881,\"country_destination_name\":\"Malta\",\"country_destination_continent\":\"Europe\"},{\"year\":2016,\"country_origin_id\":\"BEN\",\"country_destination_id\":\"NLD\",\"import_val\":125348766,\"country_destination_name\":\"Netherlands\",\"country_destination_continent\":\"Europe\"},{\"year\":2016,\"country_origin_id\":\"BEN\",\"country_destination_id\":\"NOR\",\"import_val\":10465502,\"country_destination_name\":\"Norway\",\"country_destination_continent\":\"Europe\"},{\"year\":2016,\"country_origin_id\":\"BEN\",\"country_destination_id\":\"POL\",\"import_val\":18703588,\"country_destination_name\":\"Poland\",\"country_destination_continent\":\"Europe\"},{\"year\":2016,\"country_origin_id\":\"BEN\",\"country_destination_id\":\"PRT\",\"import_val\":13640430,\"country_destination_name\":\"Portugal\",\"country_destination_continent\":\"Europe\"},{\"year\":2016,\"country_origin_id\":\"BEN\",\"country_destination_id\":\"ROU\",\"import_val\":549529,\"country_destination_name\":\"Romania\",\"country_destination_continent\":\"Europe\"},{\"year\":2016,\"country_origin_id\":\"BEN\",\"country_destination_id\":\"RUS\",\"import_val\":26720780,\"country_destination_name\":\"Russian Federation\",\"country_destination_continent\":\"Europe\"},{\"year\":2016,\"country_origin_id\":\"BEN\",\"country_destination_id\":\"SRB\",\"import_val\":44822,\"country_destination_name\":\"Serbia\",\"country_destination_continent\":\"Europe\"},{\"year\":2016,\"country_origin_id\":\"BEN\",\"country_destination_id\":\"SVK\",\"import_val\":379322,\"country_destination_name\":\"Slovakia (Slovak Republic)\",\"country_destination_continent\":\"Europe\"},{\"year\":2016,\"country_origin_id\":\"BEN\",\"country_destination_id\":\"SVN\",\"import_val\":18295,\"country_destination_name\":\"Slovenia\",\"country_destination_continent\":\"Europe\"},{\"year\":2016,\"country_origin_id\":\"BEN\",\"country_destination_id\":\"SWE\",\"import_val\":11285571,\"country_destination_name\":\"Sweden\",\"country_destination_continent\":\"Europe\"},{\"year\":2016,\"country_origin_id\":\"BEN\",\"country_destination_id\":\"UKR\",\"import_val\":1501174,\"country_destination_name\":\"Ukraine\",\"country_destination_continent\":\"Europe\"},{\"year\":2016,\"country_origin_id\":\"BEN\",\"country_destination_id\":\"ATG\",\"import_val\":57033,\"country_destination_name\":\"Antigua and Barbuda\",\"country_destination_continent\":\"North America\"},{\"year\":2016,\"country_origin_id\":\"BEN\",\"country_destination_id\":\"CAN\",\"import_val\":6758073,\"country_destination_name\":\"Canada\",\"country_destination_continent\":\"North America\"},{\"year\":2016,\"country_origin_id\":\"BEN\",\"country_destination_id\":\"CUW\",\"import_val\":7799,\"country_destination_name\":\"CUW\",\"country_destination_continent\":\"Unknown\"},{\"year\":2016,\"country_origin_id\":\"BEN\",\"country_destination_id\":\"DOM\",\"import_val\":3134,\"country_destination_name\":\"Dominican Republic\",\"country_destination_continent\":\"North America\"},{\"year\":2016,\"country_origin_id\":\"BEN\",\"country_destination_id\":\"HND\",\"import_val\":47853,\"country_destination_name\":\"Honduras\",\"country_destination_continent\":\"North America\"},{\"year\":2016,\"country_origin_id\":\"BEN\",\"country_destination_id\":\"HTI\",\"import_val\":3370,\"country_destination_name\":\"Haiti\",\"country_destination_continent\":\"North America\"},{\"year\":2016,\"country_origin_id\":\"BEN\",\"country_destination_id\":\"JAM\",\"import_val\":8265,\"country_destination_name\":\"Jamaica\",\"country_destination_continent\":\"North America\"},{\"year\":2016,\"country_origin_id\":\"BEN\",\"country_destination_id\":\"KNA\",\"import_val\":421,\"country_destination_name\":\"Saint Kitts and Nevis\",\"country_destination_continent\":\"North America\"},{\"year\":2016,\"country_origin_id\":\"BEN\",\"country_destination_id\":\"MEX\",\"import_val\":104461,\"country_destination_name\":\"Mexico\",\"country_destination_continent\":\"North America\"},{\"year\":2016,\"country_origin_id\":\"BEN\",\"country_destination_id\":\"PAN\",\"import_val\":50524,\"country_destination_name\":\"Panama\",\"country_destination_continent\":\"North America\"},{\"year\":2016,\"country_origin_id\":\"BEN\",\"country_destination_id\":\"TCA\",\"import_val\":136480,\"country_destination_name\":\"Turks and Caicos Islands\",\"country_destination_continent\":\"North America\"},{\"year\":2016,\"country_origin_id\":\"BEN\",\"country_destination_id\":\"TTO\",\"import_val\":3646086,\"country_destination_name\":\"Trinidad and Tobago\",\"country_destination_continent\":\"North America\"},{\"year\":2016,\"country_origin_id\":\"BEN\",\"country_destination_id\":\"UMI\",\"import_val\":2484,\"country_destination_name\":\"United States Minor Outlying Islands\",\"country_destination_continent\":\"Oceania\"},{\"year\":2016,\"country_origin_id\":\"BEN\",\"country_destination_id\":\"USA\",\"import_val\":58714476,\"country_destination_name\":\"United States of America\",\"country_destination_continent\":\"North America\"},{\"year\":2016,\"country_origin_id\":\"BEN\",\"country_destination_id\":\"VCT\",\"import_val\":31940,\"country_destination_name\":\"Saint Vincent and the Grenadines\",\"country_destination_continent\":\"North America\"},{\"year\":2016,\"country_origin_id\":\"BEN\",\"country_destination_id\":\"AUS\",\"import_val\":715233,\"country_destination_name\":\"Australia\",\"country_destination_continent\":\"Oceania\"},{\"year\":2016,\"country_origin_id\":\"BEN\",\"country_destination_id\":\"KIR\",\"import_val\":4212,\"country_destination_name\":\"Kiribati\",\"country_destination_continent\":\"Oceania\"},{\"year\":2016,\"country_origin_id\":\"BEN\",\"country_destination_id\":\"MHL\",\"import_val\":190471,\"country_destination_name\":\"Marshall Islands\",\"country_destination_continent\":\"Oceania\"},{\"year\":2016,\"country_origin_id\":\"BEN\",\"country_destination_id\":\"NFK\",\"import_val\":9724,\"country_destination_name\":\"Norfolk Island\",\"country_destination_continent\":\"Oceania\"},{\"year\":2016,\"country_origin_id\":\"BEN\",\"country_destination_id\":\"NZL\",\"import_val\":152190,\"country_destination_name\":\"New Zealand\",\"country_destination_continent\":\"Oceania\"},{\"year\":2016,\"country_origin_id\":\"BEN\",\"country_destination_id\":\"PCN\",\"import_val\":4351,\"country_destination_name\":\"Pitcairn Islands\",\"country_destination_continent\":\"Oceania\"},{\"year\":2016,\"country_origin_id\":\"BEN\",\"country_destination_id\":\"TKL\",\"import_val\":11963,\"country_destination_name\":\"Tokelau\",\"country_destination_continent\":\"Oceania\"},{\"year\":2016,\"country_origin_id\":\"BEN\",\"country_destination_id\":\"ARG\",\"import_val\":2363464,\"country_destination_name\":\"Argentina\",\"country_destination_continent\":\"South America\"},{\"year\":2016,\"country_origin_id\":\"BEN\",\"country_destination_id\":\"BOL\",\"import_val\":567,\"country_destination_name\":\"Bolivia\",\"country_destination_continent\":\"South America\"},{\"year\":2016,\"country_origin_id\":\"BEN\",\"country_destination_id\":\"BRA\",\"import_val\":52104470,\"country_destination_name\":\"Brazil\",\"country_destination_continent\":\"South America\"},{\"year\":2016,\"country_origin_id\":\"BEN\",\"country_destination_id\":\"CHL\",\"import_val\":448298,\"country_destination_name\":\"Chile\",\"country_destination_continent\":\"South America\"},{\"year\":2016,\"country_origin_id\":\"BEN\",\"country_destination_id\":\"COL\",\"import_val\":6955258,\"country_destination_name\":\"Colombia\",\"country_destination_continent\":\"South America\"},{\"year\":2016,\"country_origin_id\":\"BEN\",\"country_destination_id\":\"ECU\",\"import_val\":19494,\"country_destination_name\":\"Ecuador\",\"country_destination_continent\":\"South America\"},{\"year\":2016,\"country_origin_id\":\"BEN\",\"country_destination_id\":\"GUY\",\"import_val\":761,\"country_destination_name\":\"Guyana\",\"country_destination_continent\":\"South America\"},{\"year\":2016,\"country_origin_id\":\"BEN\",\"country_destination_id\":\"PER\",\"import_val\":471748,\"country_destination_name\":\"Peru\",\"country_destination_continent\":\"South America\"},{\"year\":2016,\"country_origin_id\":\"BEN\",\"country_destination_id\":\"PRY\",\"import_val\":33696,\"country_destination_name\":\"Paraguay\",\"country_destination_continent\":\"South America\"},{\"year\":2016,\"country_origin_id\":\"BEN\",\"country_destination_id\":\"URY\",\"import_val\":1792270,\"country_destination_name\":\"Uruguay\",\"country_destination_continent\":\"South America\"},{\"year\":2016,\"country_origin_id\":\"BEN\",\"country_destination_id\":\"VEN\",\"import_val\":2779710,\"country_destination_name\":\"Venezuela\",\"country_destination_continent\":\"South America\"}];\n",
       "\n",
       "            var viz_d3viz_8 = d3plus.viz()\n",
       "                .container('#d3viz_8')\n",
       "                .data(viz_data)\n",
       "                .type(\"tree_map\")\n",
       "                .id('country_destination_id')\n",
       "                .size('import_val')\n",
       "                .legend(false)\n",
       "                \n",
       "                \n",
       "                \n",
       "                .depth(0)\n",
       "                .draw();\n",
       "\n",
       "        })();\n",
       "        });\n",
       "});\n"
      ],
      "text/plain": [
       "<IPython.core.display.Javascript object>"
      ]
     },
     "metadata": {},
     "output_type": "display_data"
    }
   ],
   "source": [
    "# id is the import country of origin\n",
    "tmap = TreeMap(id=\"country_destination_id\", size=\"import_val\", legend=False, width=700)\n",
    "tmap.draw(df)"
   ]
  },
  {
   "cell_type": "markdown",
   "metadata": {},
   "source": [
    "#### Ok, not bad. Now let's organize the visualization by continent, fix the color and use each country full name in the  tooltips info"
   ]
  },
  {
   "cell_type": "code",
   "execution_count": 13,
   "metadata": {
    "collapsed": false
   },
   "outputs": [
    {
     "data": {
      "text/html": [
       "<div id='d3viz_9' style='height:400px;width:700px'></div>"
      ],
      "text/plain": [
       "<IPython.core.display.HTML object>"
      ]
     },
     "metadata": {},
     "output_type": "display_data"
    },
    {
     "data": {
      "application/javascript": [
       "$(\"head\").append($(\"<link/>\").attr({\n",
       "  rel:  \"stylesheet\",\n",
       "  type: \"text/css\",\n",
       "  href: \"\"\n",
       "}));\n",
       "$.getScript(\"http://www.d3plus.org/js/d3.js\", function () {\n",
       "$.getScript(\"http://www.d3plus.org/js/d3plus.js\", function () {\n",
       "\n",
       "        (function (){\n",
       "\n",
       "            \n",
       "\n",
       "            var viz_data = [{\"year\":2016,\"country_origin_id\":\"BEN\",\"country_destination_id\":\"AGO\",\"import_val\":33188982,\"country_destination_name\":\"Angola\",\"country_destination_continent\":\"Africa\"},{\"year\":2016,\"country_origin_id\":\"BEN\",\"country_destination_id\":\"BDI\",\"import_val\":8226,\"country_destination_name\":\"Burundi\",\"country_destination_continent\":\"Africa\"},{\"year\":2016,\"country_origin_id\":\"BEN\",\"country_destination_id\":\"BEN\",\"import_val\":1809,\"country_destination_name\":\"Benin\",\"country_destination_continent\":\"Africa\"},{\"year\":2016,\"country_origin_id\":\"BEN\",\"country_destination_id\":\"BFA\",\"import_val\":1052344,\"country_destination_name\":\"Burkina Faso\",\"country_destination_continent\":\"Africa\"},{\"year\":2016,\"country_origin_id\":\"BEN\",\"country_destination_id\":\"BWA\",\"import_val\":2597,\"country_destination_name\":\"Botswana\",\"country_destination_continent\":\"Africa\"},{\"year\":2016,\"country_origin_id\":\"BEN\",\"country_destination_id\":\"CIV\",\"import_val\":24870313,\"country_destination_name\":\"Cote d'Ivoire\",\"country_destination_continent\":\"Africa\"},{\"year\":2016,\"country_origin_id\":\"BEN\",\"country_destination_id\":\"CMR\",\"import_val\":5344266,\"country_destination_name\":\"Cameroon\",\"country_destination_continent\":\"Africa\"},{\"year\":2016,\"country_origin_id\":\"BEN\",\"country_destination_id\":\"COD\",\"import_val\":370497,\"country_destination_name\":\"Congo\",\"country_destination_continent\":\"Africa\"},{\"year\":2016,\"country_origin_id\":\"BEN\",\"country_destination_id\":\"COG\",\"import_val\":2097686,\"country_destination_name\":\"Congo\",\"country_destination_continent\":\"Africa\"},{\"year\":2016,\"country_origin_id\":\"BEN\",\"country_destination_id\":\"CPV\",\"import_val\":4546,\"country_destination_name\":\"Cape Verde\",\"country_destination_continent\":\"Africa\"},{\"year\":2016,\"country_origin_id\":\"BEN\",\"country_destination_id\":\"DJI\",\"import_val\":453169,\"country_destination_name\":\"Djibouti\",\"country_destination_continent\":\"Africa\"},{\"year\":2016,\"country_origin_id\":\"BEN\",\"country_destination_id\":\"DZA\",\"import_val\":2159932,\"country_destination_name\":\"Algeria\",\"country_destination_continent\":\"Africa\"},{\"year\":2016,\"country_origin_id\":\"BEN\",\"country_destination_id\":\"EGY\",\"import_val\":4018903,\"country_destination_name\":\"Egypt\",\"country_destination_continent\":\"Africa\"},{\"year\":2016,\"country_origin_id\":\"BEN\",\"country_destination_id\":\"ETH\",\"import_val\":1591015,\"country_destination_name\":\"Ethiopia\",\"country_destination_continent\":\"Africa\"},{\"year\":2016,\"country_origin_id\":\"BEN\",\"country_destination_id\":\"GAB\",\"import_val\":827910,\"country_destination_name\":\"Gabon\",\"country_destination_continent\":\"Africa\"},{\"year\":2016,\"country_origin_id\":\"BEN\",\"country_destination_id\":\"GHA\",\"import_val\":19768830,\"country_destination_name\":\"Ghana\",\"country_destination_continent\":\"Africa\"},{\"year\":2016,\"country_origin_id\":\"BEN\",\"country_destination_id\":\"GIN\",\"import_val\":1495860,\"country_destination_name\":\"Guinea\",\"country_destination_continent\":\"Africa\"},{\"year\":2016,\"country_origin_id\":\"BEN\",\"country_destination_id\":\"GMB\",\"import_val\":17816,\"country_destination_name\":\"Gambia\",\"country_destination_continent\":\"Africa\"},{\"year\":2016,\"country_origin_id\":\"BEN\",\"country_destination_id\":\"GNB\",\"import_val\":568853,\"country_destination_name\":\"Guinea-Bissau\",\"country_destination_continent\":\"Africa\"},{\"year\":2016,\"country_origin_id\":\"BEN\",\"country_destination_id\":\"GNQ\",\"import_val\":11573747,\"country_destination_name\":\"Equatorial Guinea\",\"country_destination_continent\":\"Africa\"},{\"year\":2016,\"country_origin_id\":\"BEN\",\"country_destination_id\":\"KEN\",\"import_val\":37761,\"country_destination_name\":\"Kenya\",\"country_destination_continent\":\"Africa\"},{\"year\":2016,\"country_origin_id\":\"BEN\",\"country_destination_id\":\"LBR\",\"import_val\":51101,\"country_destination_name\":\"Liberia\",\"country_destination_continent\":\"Africa\"},{\"year\":2016,\"country_origin_id\":\"BEN\",\"country_destination_id\":\"LBY\",\"import_val\":231011,\"country_destination_name\":\"Libyan Arab Jamahiriya\",\"country_destination_continent\":\"Africa\"},{\"year\":2016,\"country_origin_id\":\"BEN\",\"country_destination_id\":\"MAR\",\"import_val\":39989052,\"country_destination_name\":\"Morocco\",\"country_destination_continent\":\"Africa\"},{\"year\":2016,\"country_origin_id\":\"BEN\",\"country_destination_id\":\"MDG\",\"import_val\":205794,\"country_destination_name\":\"Madagascar\",\"country_destination_continent\":\"Africa\"},{\"year\":2016,\"country_origin_id\":\"BEN\",\"country_destination_id\":\"MLI\",\"import_val\":903848,\"country_destination_name\":\"Mali\",\"country_destination_continent\":\"Africa\"},{\"year\":2016,\"country_origin_id\":\"BEN\",\"country_destination_id\":\"MRT\",\"import_val\":35917068,\"country_destination_name\":\"Mauritania\",\"country_destination_continent\":\"Africa\"},{\"year\":2016,\"country_origin_id\":\"BEN\",\"country_destination_id\":\"MUS\",\"import_val\":21529,\"country_destination_name\":\"Mauritius\",\"country_destination_continent\":\"Africa\"},{\"year\":2016,\"country_origin_id\":\"BEN\",\"country_destination_id\":\"NAM\",\"import_val\":9199707,\"country_destination_name\":\"Namibia\",\"country_destination_continent\":\"Africa\"},{\"year\":2016,\"country_origin_id\":\"BEN\",\"country_destination_id\":\"NER\",\"import_val\":675567,\"country_destination_name\":\"Niger\",\"country_destination_continent\":\"Africa\"},{\"year\":2016,\"country_origin_id\":\"BEN\",\"country_destination_id\":\"NGA\",\"import_val\":39018853,\"country_destination_name\":\"Nigeria\",\"country_destination_continent\":\"Africa\"},{\"year\":2016,\"country_origin_id\":\"BEN\",\"country_destination_id\":\"RWA\",\"import_val\":138774,\"country_destination_name\":\"Rwanda\",\"country_destination_continent\":\"Africa\"},{\"year\":2016,\"country_origin_id\":\"BEN\",\"country_destination_id\":\"SDN\",\"import_val\":1871,\"country_destination_name\":\"Sudan\",\"country_destination_continent\":\"Africa\"},{\"year\":2016,\"country_origin_id\":\"BEN\",\"country_destination_id\":\"SEN\",\"import_val\":11386468,\"country_destination_name\":\"Senegal\",\"country_destination_continent\":\"Africa\"},{\"year\":2016,\"country_origin_id\":\"BEN\",\"country_destination_id\":\"SLE\",\"import_val\":63944,\"country_destination_name\":\"Sierra Leone\",\"country_destination_continent\":\"Africa\"},{\"year\":2016,\"country_origin_id\":\"BEN\",\"country_destination_id\":\"SOM\",\"import_val\":34,\"country_destination_name\":\"Somalia\",\"country_destination_continent\":\"Africa\"},{\"year\":2016,\"country_origin_id\":\"BEN\",\"country_destination_id\":\"SWZ\",\"import_val\":184306,\"country_destination_name\":\"Swaziland\",\"country_destination_continent\":\"Africa\"},{\"year\":2016,\"country_origin_id\":\"BEN\",\"country_destination_id\":\"SYC\",\"import_val\":73669,\"country_destination_name\":\"Seychelles\",\"country_destination_continent\":\"Africa\"},{\"year\":2016,\"country_origin_id\":\"BEN\",\"country_destination_id\":\"TCD\",\"import_val\":11218,\"country_destination_name\":\"Chad\",\"country_destination_continent\":\"Africa\"},{\"year\":2016,\"country_origin_id\":\"BEN\",\"country_destination_id\":\"TGO\",\"import_val\":191347145,\"country_destination_name\":\"Togo\",\"country_destination_continent\":\"Africa\"},{\"year\":2016,\"country_origin_id\":\"BEN\",\"country_destination_id\":\"TUN\",\"import_val\":4440954,\"country_destination_name\":\"Tunisia\",\"country_destination_continent\":\"Africa\"},{\"year\":2016,\"country_origin_id\":\"BEN\",\"country_destination_id\":\"TZA\",\"import_val\":80682,\"country_destination_name\":\"Tanzania\",\"country_destination_continent\":\"Africa\"},{\"year\":2016,\"country_origin_id\":\"BEN\",\"country_destination_id\":\"UGA\",\"import_val\":168,\"country_destination_name\":\"Uganda\",\"country_destination_continent\":\"Africa\"},{\"year\":2016,\"country_origin_id\":\"BEN\",\"country_destination_id\":\"ZAF\",\"import_val\":15665990,\"country_destination_name\":\"South Africa\",\"country_destination_continent\":\"Africa\"},{\"year\":2016,\"country_origin_id\":\"BEN\",\"country_destination_id\":\"ZMB\",\"import_val\":2527,\"country_destination_name\":\"Zambia\",\"country_destination_continent\":\"Africa\"},{\"year\":2016,\"country_origin_id\":\"BEN\",\"country_destination_id\":\"ZWE\",\"import_val\":1516,\"country_destination_name\":\"Zimbabwe\",\"country_destination_continent\":\"Africa\"},{\"year\":2016,\"country_origin_id\":\"BEN\",\"country_destination_id\":\"AFG\",\"import_val\":32168,\"country_destination_name\":\"Afghanistan\",\"country_destination_continent\":\"Asia\"},{\"year\":2016,\"country_origin_id\":\"BEN\",\"country_destination_id\":\"ARE\",\"import_val\":64634915,\"country_destination_name\":\"United Arab Emirates\",\"country_destination_continent\":\"Asia\"},{\"year\":2016,\"country_origin_id\":\"BEN\",\"country_destination_id\":\"ARM\",\"import_val\":10876,\"country_destination_name\":\"Armenia\",\"country_destination_continent\":\"Asia\"},{\"year\":2016,\"country_origin_id\":\"BEN\",\"country_destination_id\":\"BGD\",\"import_val\":76716,\"country_destination_name\":\"Bangladesh\",\"country_destination_continent\":\"Asia\"},{\"year\":2016,\"country_origin_id\":\"BEN\",\"country_destination_id\":\"BHR\",\"import_val\":94757,\"country_destination_name\":\"Bahrain\",\"country_destination_continent\":\"Asia\"},{\"year\":2016,\"country_origin_id\":\"BEN\",\"country_destination_id\":\"CHN\",\"import_val\":221437352,\"country_destination_name\":\"China\",\"country_destination_continent\":\"Asia\"},{\"year\":2016,\"country_origin_id\":\"BEN\",\"country_destination_id\":\"CYP\",\"import_val\":46773,\"country_destination_name\":\"Cyprus\",\"country_destination_continent\":\"Asia\"},{\"year\":2016,\"country_origin_id\":\"BEN\",\"country_destination_id\":\"GEO\",\"import_val\":35730,\"country_destination_name\":\"Georgia\",\"country_destination_continent\":\"Asia\"},{\"year\":2016,\"country_origin_id\":\"BEN\",\"country_destination_id\":\"HKG\",\"import_val\":10009482,\"country_destination_name\":\"Hong Kong\",\"country_destination_continent\":\"Asia\"},{\"year\":2016,\"country_origin_id\":\"BEN\",\"country_destination_id\":\"IDN\",\"import_val\":12214313,\"country_destination_name\":\"Indonesia\",\"country_destination_continent\":\"Asia\"},{\"year\":2016,\"country_origin_id\":\"BEN\",\"country_destination_id\":\"IND\",\"import_val\":391720937,\"country_destination_name\":\"India\",\"country_destination_continent\":\"Asia\"},{\"year\":2016,\"country_origin_id\":\"BEN\",\"country_destination_id\":\"IRN\",\"import_val\":1025421,\"country_destination_name\":\"Iran\",\"country_destination_continent\":\"Asia\"},{\"year\":2016,\"country_origin_id\":\"BEN\",\"country_destination_id\":\"ISR\",\"import_val\":67510,\"country_destination_name\":\"Israel\",\"country_destination_continent\":\"Asia\"},{\"year\":2016,\"country_origin_id\":\"BEN\",\"country_destination_id\":\"JOR\",\"import_val\":23977,\"country_destination_name\":\"Jordan\",\"country_destination_continent\":\"Asia\"},{\"year\":2016,\"country_origin_id\":\"BEN\",\"country_destination_id\":\"JPN\",\"import_val\":9778360,\"country_destination_name\":\"Japan\",\"country_destination_continent\":\"Asia\"},{\"year\":2016,\"country_origin_id\":\"BEN\",\"country_destination_id\":\"KGZ\",\"import_val\":6244,\"country_destination_name\":\"Kyrgyz Republic\",\"country_destination_continent\":\"Asia\"},{\"year\":2016,\"country_origin_id\":\"BEN\",\"country_destination_id\":\"KOR\",\"import_val\":16819716,\"country_destination_name\":\"Korea\",\"country_destination_continent\":\"Asia\"},{\"year\":2016,\"country_origin_id\":\"BEN\",\"country_destination_id\":\"KWT\",\"import_val\":351037,\"country_destination_name\":\"Kuwait\",\"country_destination_continent\":\"Asia\"},{\"year\":2016,\"country_origin_id\":\"BEN\",\"country_destination_id\":\"LBN\",\"import_val\":6161757,\"country_destination_name\":\"Lebanon\",\"country_destination_continent\":\"Asia\"},{\"year\":2016,\"country_origin_id\":\"BEN\",\"country_destination_id\":\"LKA\",\"import_val\":464679,\"country_destination_name\":\"Sri Lanka\",\"country_destination_continent\":\"Asia\"},{\"year\":2016,\"country_origin_id\":\"BEN\",\"country_destination_id\":\"MAC\",\"import_val\":111,\"country_destination_name\":\"Macao\",\"country_destination_continent\":\"Asia\"},{\"year\":2016,\"country_origin_id\":\"BEN\",\"country_destination_id\":\"MYS\",\"import_val\":66479314,\"country_destination_name\":\"Malaysia\",\"country_destination_continent\":\"Asia\"},{\"year\":2016,\"country_origin_id\":\"BEN\",\"country_destination_id\":\"NPL\",\"import_val\":2022,\"country_destination_name\":\"Nepal\",\"country_destination_continent\":\"Asia\"},{\"year\":2016,\"country_origin_id\":\"BEN\",\"country_destination_id\":\"PAK\",\"import_val\":20374449,\"country_destination_name\":\"Pakistan\",\"country_destination_continent\":\"Asia\"},{\"year\":2016,\"country_origin_id\":\"BEN\",\"country_destination_id\":\"PHL\",\"import_val\":10849,\"country_destination_name\":\"Philippines\",\"country_destination_continent\":\"Asia\"},{\"year\":2016,\"country_origin_id\":\"BEN\",\"country_destination_id\":\"PRK\",\"import_val\":60186,\"country_destination_name\":\"Korea\",\"country_destination_continent\":\"Asia\"},{\"year\":2016,\"country_origin_id\":\"BEN\",\"country_destination_id\":\"QAT\",\"import_val\":157039,\"country_destination_name\":\"Qatar\",\"country_destination_continent\":\"Asia\"},{\"year\":2016,\"country_origin_id\":\"BEN\",\"country_destination_id\":\"SAU\",\"import_val\":10651978,\"country_destination_name\":\"Saudi Arabia\",\"country_destination_continent\":\"Asia\"},{\"year\":2016,\"country_origin_id\":\"BEN\",\"country_destination_id\":\"SGP\",\"import_val\":24982547,\"country_destination_name\":\"Singapore\",\"country_destination_continent\":\"Asia\"},{\"year\":2016,\"country_origin_id\":\"BEN\",\"country_destination_id\":\"THA\",\"import_val\":326504544,\"country_destination_name\":\"Thailand\",\"country_destination_continent\":\"Asia\"},{\"year\":2016,\"country_origin_id\":\"BEN\",\"country_destination_id\":\"TKM\",\"import_val\":1218,\"country_destination_name\":\"Turkmenistan\",\"country_destination_continent\":\"Asia\"},{\"year\":2016,\"country_origin_id\":\"BEN\",\"country_destination_id\":\"TLS\",\"import_val\":4125,\"country_destination_name\":\"Timor-Leste\",\"country_destination_continent\":\"Asia\"},{\"year\":2016,\"country_origin_id\":\"BEN\",\"country_destination_id\":\"TUR\",\"import_val\":33868901,\"country_destination_name\":\"Turkey\",\"country_destination_continent\":\"Asia\"},{\"year\":2016,\"country_origin_id\":\"BEN\",\"country_destination_id\":\"VNM\",\"import_val\":2966820,\"country_destination_name\":\"Vietnam\",\"country_destination_continent\":\"Asia\"},{\"year\":2016,\"country_origin_id\":\"BEN\",\"country_destination_id\":\"YEM\",\"import_val\":50544,\"country_destination_name\":\"Yemen\",\"country_destination_continent\":\"Asia\"},{\"year\":2016,\"country_origin_id\":\"BEN\",\"country_destination_id\":\"ALB\",\"import_val\":88188,\"country_destination_name\":\"Albania\",\"country_destination_continent\":\"Europe\"},{\"year\":2016,\"country_origin_id\":\"BEN\",\"country_destination_id\":\"AND\",\"import_val\":8563,\"country_destination_name\":\"Andorra\",\"country_destination_continent\":\"Europe\"},{\"year\":2016,\"country_origin_id\":\"BEN\",\"country_destination_id\":\"AUT\",\"import_val\":468379,\"country_destination_name\":\"Austria\",\"country_destination_continent\":\"Europe\"},{\"year\":2016,\"country_origin_id\":\"BEN\",\"country_destination_id\":\"BEL\",\"import_val\":122625050,\"country_destination_name\":\"Belgium\",\"country_destination_continent\":\"Europe\"},{\"year\":2016,\"country_origin_id\":\"BEN\",\"country_destination_id\":\"BGR\",\"import_val\":446341,\"country_destination_name\":\"Bulgaria\",\"country_destination_continent\":\"Europe\"},{\"year\":2016,\"country_origin_id\":\"BEN\",\"country_destination_id\":\"BIH\",\"import_val\":136372,\"country_destination_name\":\"Bosnia and Herzegovina\",\"country_destination_continent\":\"Europe\"},{\"year\":2016,\"country_origin_id\":\"BEN\",\"country_destination_id\":\"CHE\",\"import_val\":29476175,\"country_destination_name\":\"Switzerland\",\"country_destination_continent\":\"Europe\"},{\"year\":2016,\"country_origin_id\":\"BEN\",\"country_destination_id\":\"CZE\",\"import_val\":195023,\"country_destination_name\":\"Czech Republic\",\"country_destination_continent\":\"Europe\"},{\"year\":2016,\"country_origin_id\":\"BEN\",\"country_destination_id\":\"DEU\",\"import_val\":52012424,\"country_destination_name\":\"Germany\",\"country_destination_continent\":\"Europe\"},{\"year\":2016,\"country_origin_id\":\"BEN\",\"country_destination_id\":\"DNK\",\"import_val\":7430426,\"country_destination_name\":\"Denmark\",\"country_destination_continent\":\"Europe\"},{\"year\":2016,\"country_origin_id\":\"BEN\",\"country_destination_id\":\"ESP\",\"import_val\":53144729,\"country_destination_name\":\"Spain\",\"country_destination_continent\":\"Europe\"},{\"year\":2016,\"country_origin_id\":\"BEN\",\"country_destination_id\":\"EST\",\"import_val\":96655,\"country_destination_name\":\"Estonia\",\"country_destination_continent\":\"Europe\"},{\"year\":2016,\"country_origin_id\":\"BEN\",\"country_destination_id\":\"FIN\",\"import_val\":1503271,\"country_destination_name\":\"Finland\",\"country_destination_continent\":\"Europe\"},{\"year\":2016,\"country_origin_id\":\"BEN\",\"country_destination_id\":\"FRA\",\"import_val\":264930969,\"country_destination_name\":\"France\",\"country_destination_continent\":\"Europe\"},{\"year\":2016,\"country_origin_id\":\"BEN\",\"country_destination_id\":\"GBR\",\"import_val\":33476963,\"country_destination_name\":\"United Kingdom of Great Britain & Northern Ireland\",\"country_destination_continent\":\"Europe\"},{\"year\":2016,\"country_origin_id\":\"BEN\",\"country_destination_id\":\"GIB\",\"import_val\":186955,\"country_destination_name\":\"Gibraltar\",\"country_destination_continent\":\"Europe\"},{\"year\":2016,\"country_origin_id\":\"BEN\",\"country_destination_id\":\"GRC\",\"import_val\":2361852,\"country_destination_name\":\"Greece\",\"country_destination_continent\":\"Europe\"},{\"year\":2016,\"country_origin_id\":\"BEN\",\"country_destination_id\":\"HRV\",\"import_val\":85546,\"country_destination_name\":\"Croatia\",\"country_destination_continent\":\"Europe\"},{\"year\":2016,\"country_origin_id\":\"BEN\",\"country_destination_id\":\"HUN\",\"import_val\":535593,\"country_destination_name\":\"Hungary\",\"country_destination_continent\":\"Europe\"},{\"year\":2016,\"country_origin_id\":\"BEN\",\"country_destination_id\":\"IRL\",\"import_val\":2694262,\"country_destination_name\":\"Ireland\",\"country_destination_continent\":\"Europe\"},{\"year\":2016,\"country_origin_id\":\"BEN\",\"country_destination_id\":\"ISL\",\"import_val\":1638948,\"country_destination_name\":\"Iceland\",\"country_destination_continent\":\"Europe\"},{\"year\":2016,\"country_origin_id\":\"BEN\",\"country_destination_id\":\"ITA\",\"import_val\":25820035,\"country_destination_name\":\"Italy\",\"country_destination_continent\":\"Europe\"},{\"year\":2016,\"country_origin_id\":\"BEN\",\"country_destination_id\":\"LTU\",\"import_val\":2889265,\"country_destination_name\":\"Lithuania\",\"country_destination_continent\":\"Europe\"},{\"year\":2016,\"country_origin_id\":\"BEN\",\"country_destination_id\":\"LUX\",\"import_val\":142182,\"country_destination_name\":\"Luxembourg\",\"country_destination_continent\":\"Europe\"},{\"year\":2016,\"country_origin_id\":\"BEN\",\"country_destination_id\":\"LVA\",\"import_val\":99735,\"country_destination_name\":\"Latvia\",\"country_destination_continent\":\"Europe\"},{\"year\":2016,\"country_origin_id\":\"BEN\",\"country_destination_id\":\"MDA\",\"import_val\":6846,\"country_destination_name\":\"Moldova\",\"country_destination_continent\":\"Europe\"},{\"year\":2016,\"country_origin_id\":\"BEN\",\"country_destination_id\":\"MLT\",\"import_val\":29881,\"country_destination_name\":\"Malta\",\"country_destination_continent\":\"Europe\"},{\"year\":2016,\"country_origin_id\":\"BEN\",\"country_destination_id\":\"NLD\",\"import_val\":125348766,\"country_destination_name\":\"Netherlands\",\"country_destination_continent\":\"Europe\"},{\"year\":2016,\"country_origin_id\":\"BEN\",\"country_destination_id\":\"NOR\",\"import_val\":10465502,\"country_destination_name\":\"Norway\",\"country_destination_continent\":\"Europe\"},{\"year\":2016,\"country_origin_id\":\"BEN\",\"country_destination_id\":\"POL\",\"import_val\":18703588,\"country_destination_name\":\"Poland\",\"country_destination_continent\":\"Europe\"},{\"year\":2016,\"country_origin_id\":\"BEN\",\"country_destination_id\":\"PRT\",\"import_val\":13640430,\"country_destination_name\":\"Portugal\",\"country_destination_continent\":\"Europe\"},{\"year\":2016,\"country_origin_id\":\"BEN\",\"country_destination_id\":\"ROU\",\"import_val\":549529,\"country_destination_name\":\"Romania\",\"country_destination_continent\":\"Europe\"},{\"year\":2016,\"country_origin_id\":\"BEN\",\"country_destination_id\":\"RUS\",\"import_val\":26720780,\"country_destination_name\":\"Russian Federation\",\"country_destination_continent\":\"Europe\"},{\"year\":2016,\"country_origin_id\":\"BEN\",\"country_destination_id\":\"SRB\",\"import_val\":44822,\"country_destination_name\":\"Serbia\",\"country_destination_continent\":\"Europe\"},{\"year\":2016,\"country_origin_id\":\"BEN\",\"country_destination_id\":\"SVK\",\"import_val\":379322,\"country_destination_name\":\"Slovakia (Slovak Republic)\",\"country_destination_continent\":\"Europe\"},{\"year\":2016,\"country_origin_id\":\"BEN\",\"country_destination_id\":\"SVN\",\"import_val\":18295,\"country_destination_name\":\"Slovenia\",\"country_destination_continent\":\"Europe\"},{\"year\":2016,\"country_origin_id\":\"BEN\",\"country_destination_id\":\"SWE\",\"import_val\":11285571,\"country_destination_name\":\"Sweden\",\"country_destination_continent\":\"Europe\"},{\"year\":2016,\"country_origin_id\":\"BEN\",\"country_destination_id\":\"UKR\",\"import_val\":1501174,\"country_destination_name\":\"Ukraine\",\"country_destination_continent\":\"Europe\"},{\"year\":2016,\"country_origin_id\":\"BEN\",\"country_destination_id\":\"ATG\",\"import_val\":57033,\"country_destination_name\":\"Antigua and Barbuda\",\"country_destination_continent\":\"North America\"},{\"year\":2016,\"country_origin_id\":\"BEN\",\"country_destination_id\":\"CAN\",\"import_val\":6758073,\"country_destination_name\":\"Canada\",\"country_destination_continent\":\"North America\"},{\"year\":2016,\"country_origin_id\":\"BEN\",\"country_destination_id\":\"CUW\",\"import_val\":7799,\"country_destination_name\":\"CUW\",\"country_destination_continent\":\"Unknown\"},{\"year\":2016,\"country_origin_id\":\"BEN\",\"country_destination_id\":\"DOM\",\"import_val\":3134,\"country_destination_name\":\"Dominican Republic\",\"country_destination_continent\":\"North America\"},{\"year\":2016,\"country_origin_id\":\"BEN\",\"country_destination_id\":\"HND\",\"import_val\":47853,\"country_destination_name\":\"Honduras\",\"country_destination_continent\":\"North America\"},{\"year\":2016,\"country_origin_id\":\"BEN\",\"country_destination_id\":\"HTI\",\"import_val\":3370,\"country_destination_name\":\"Haiti\",\"country_destination_continent\":\"North America\"},{\"year\":2016,\"country_origin_id\":\"BEN\",\"country_destination_id\":\"JAM\",\"import_val\":8265,\"country_destination_name\":\"Jamaica\",\"country_destination_continent\":\"North America\"},{\"year\":2016,\"country_origin_id\":\"BEN\",\"country_destination_id\":\"KNA\",\"import_val\":421,\"country_destination_name\":\"Saint Kitts and Nevis\",\"country_destination_continent\":\"North America\"},{\"year\":2016,\"country_origin_id\":\"BEN\",\"country_destination_id\":\"MEX\",\"import_val\":104461,\"country_destination_name\":\"Mexico\",\"country_destination_continent\":\"North America\"},{\"year\":2016,\"country_origin_id\":\"BEN\",\"country_destination_id\":\"PAN\",\"import_val\":50524,\"country_destination_name\":\"Panama\",\"country_destination_continent\":\"North America\"},{\"year\":2016,\"country_origin_id\":\"BEN\",\"country_destination_id\":\"TCA\",\"import_val\":136480,\"country_destination_name\":\"Turks and Caicos Islands\",\"country_destination_continent\":\"North America\"},{\"year\":2016,\"country_origin_id\":\"BEN\",\"country_destination_id\":\"TTO\",\"import_val\":3646086,\"country_destination_name\":\"Trinidad and Tobago\",\"country_destination_continent\":\"North America\"},{\"year\":2016,\"country_origin_id\":\"BEN\",\"country_destination_id\":\"UMI\",\"import_val\":2484,\"country_destination_name\":\"United States Minor Outlying Islands\",\"country_destination_continent\":\"Oceania\"},{\"year\":2016,\"country_origin_id\":\"BEN\",\"country_destination_id\":\"USA\",\"import_val\":58714476,\"country_destination_name\":\"United States of America\",\"country_destination_continent\":\"North America\"},{\"year\":2016,\"country_origin_id\":\"BEN\",\"country_destination_id\":\"VCT\",\"import_val\":31940,\"country_destination_name\":\"Saint Vincent and the Grenadines\",\"country_destination_continent\":\"North America\"},{\"year\":2016,\"country_origin_id\":\"BEN\",\"country_destination_id\":\"AUS\",\"import_val\":715233,\"country_destination_name\":\"Australia\",\"country_destination_continent\":\"Oceania\"},{\"year\":2016,\"country_origin_id\":\"BEN\",\"country_destination_id\":\"KIR\",\"import_val\":4212,\"country_destination_name\":\"Kiribati\",\"country_destination_continent\":\"Oceania\"},{\"year\":2016,\"country_origin_id\":\"BEN\",\"country_destination_id\":\"MHL\",\"import_val\":190471,\"country_destination_name\":\"Marshall Islands\",\"country_destination_continent\":\"Oceania\"},{\"year\":2016,\"country_origin_id\":\"BEN\",\"country_destination_id\":\"NFK\",\"import_val\":9724,\"country_destination_name\":\"Norfolk Island\",\"country_destination_continent\":\"Oceania\"},{\"year\":2016,\"country_origin_id\":\"BEN\",\"country_destination_id\":\"NZL\",\"import_val\":152190,\"country_destination_name\":\"New Zealand\",\"country_destination_continent\":\"Oceania\"},{\"year\":2016,\"country_origin_id\":\"BEN\",\"country_destination_id\":\"PCN\",\"import_val\":4351,\"country_destination_name\":\"Pitcairn Islands\",\"country_destination_continent\":\"Oceania\"},{\"year\":2016,\"country_origin_id\":\"BEN\",\"country_destination_id\":\"TKL\",\"import_val\":11963,\"country_destination_name\":\"Tokelau\",\"country_destination_continent\":\"Oceania\"},{\"year\":2016,\"country_origin_id\":\"BEN\",\"country_destination_id\":\"ARG\",\"import_val\":2363464,\"country_destination_name\":\"Argentina\",\"country_destination_continent\":\"South America\"},{\"year\":2016,\"country_origin_id\":\"BEN\",\"country_destination_id\":\"BOL\",\"import_val\":567,\"country_destination_name\":\"Bolivia\",\"country_destination_continent\":\"South America\"},{\"year\":2016,\"country_origin_id\":\"BEN\",\"country_destination_id\":\"BRA\",\"import_val\":52104470,\"country_destination_name\":\"Brazil\",\"country_destination_continent\":\"South America\"},{\"year\":2016,\"country_origin_id\":\"BEN\",\"country_destination_id\":\"CHL\",\"import_val\":448298,\"country_destination_name\":\"Chile\",\"country_destination_continent\":\"South America\"},{\"year\":2016,\"country_origin_id\":\"BEN\",\"country_destination_id\":\"COL\",\"import_val\":6955258,\"country_destination_name\":\"Colombia\",\"country_destination_continent\":\"South America\"},{\"year\":2016,\"country_origin_id\":\"BEN\",\"country_destination_id\":\"ECU\",\"import_val\":19494,\"country_destination_name\":\"Ecuador\",\"country_destination_continent\":\"South America\"},{\"year\":2016,\"country_origin_id\":\"BEN\",\"country_destination_id\":\"GUY\",\"import_val\":761,\"country_destination_name\":\"Guyana\",\"country_destination_continent\":\"South America\"},{\"year\":2016,\"country_origin_id\":\"BEN\",\"country_destination_id\":\"PER\",\"import_val\":471748,\"country_destination_name\":\"Peru\",\"country_destination_continent\":\"South America\"},{\"year\":2016,\"country_origin_id\":\"BEN\",\"country_destination_id\":\"PRY\",\"import_val\":33696,\"country_destination_name\":\"Paraguay\",\"country_destination_continent\":\"South America\"},{\"year\":2016,\"country_origin_id\":\"BEN\",\"country_destination_id\":\"URY\",\"import_val\":1792270,\"country_destination_name\":\"Uruguay\",\"country_destination_continent\":\"South America\"},{\"year\":2016,\"country_origin_id\":\"BEN\",\"country_destination_id\":\"VEN\",\"import_val\":2779710,\"country_destination_name\":\"Venezuela\",\"country_destination_continent\":\"South America\"}];\n",
       "\n",
       "            var viz_d3viz_9 = d3plus.viz()\n",
       "                .container('#d3viz_9')\n",
       "                .data(viz_data)\n",
       "                .type(\"tree_map\")\n",
       "                .id(['country_destination_continent','country_destination_name'])\n",
       "                .size({'threshold': false,'value': 'import_val'})\n",
       "                .legend(true)\n",
       "                .color('import_val')\n",
       "                \n",
       "                \n",
       "                .depth(0)\n",
       "                .draw();\n",
       "\n",
       "        })();\n",
       "        });\n",
       "});\n"
      ],
      "text/plain": [
       "<IPython.core.display.Javascript object>"
      ]
     },
     "metadata": {},
     "output_type": "display_data"
    }
   ],
   "source": [
    "tmap = TreeMap(id=[\"country_destination_continent\", \"country_destination_name\"], value=\"import_val\", color=\"import_val\", legend=True, width=700)\n",
    "tmap.draw(df)\n",
    "# Ta da !"
   ]
  }
 ],
 "metadata": {
  "anaconda-cloud": {},
  "kernelspec": {
   "display_name": "Python [conda env:test]",
   "language": "python",
   "name": "conda-env-test-py"
  },
  "language_info": {
   "codemirror_mode": {
    "name": "ipython",
    "version": 2
   },
   "file_extension": ".py",
   "mimetype": "text/x-python",
   "name": "python",
   "nbconvert_exporter": "python",
   "pygments_lexer": "ipython2",
   "version": "2.7.13"
  }
 },
 "nbformat": 4,
 "nbformat_minor": 2
}
